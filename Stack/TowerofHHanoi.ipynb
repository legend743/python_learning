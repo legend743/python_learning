{
 "cells": [
  {
   "cell_type": "code",
   "execution_count": 1,
   "metadata": {},
   "outputs": [
    {
     "name": "stdout",
     "output_type": "stream",
     "text": [
      "S ==> D\n",
      "S ==> A\n",
      "D ==> A\n",
      "S ==> D\n",
      "A ==> S\n",
      "A ==> D\n",
      "S ==> D\n"
     ]
    }
   ],
   "source": [
    "def Toh(n,Source,Aux,Dest):\n",
    "    if(n==1):\n",
    "        print(Source,\"==>\",Dest)\n",
    "    else:\n",
    "        Toh(n-1,Source,Dest,Aux)\n",
    "        print(Source,\"==>\",Dest)\n",
    "        Toh(n-1,Aux,Source,Dest)\n",
    "\n"
   ]
  },
  {
   "cell_type": "code",
   "execution_count": 2,
   "metadata": {},
   "outputs": [
    {
     "name": "stdout",
     "output_type": "stream",
     "text": [
      "S ==> D\n",
      "S ==> A\n",
      "D ==> A\n",
      "S ==> D\n",
      "A ==> S\n",
      "A ==> D\n",
      "S ==> D\n",
      "S ==> A\n",
      "D ==> A\n",
      "D ==> S\n",
      "A ==> S\n",
      "D ==> A\n",
      "S ==> D\n",
      "S ==> A\n",
      "D ==> A\n",
      "S ==> D\n",
      "A ==> S\n",
      "A ==> D\n",
      "S ==> D\n",
      "A ==> S\n",
      "D ==> A\n",
      "D ==> S\n",
      "A ==> S\n",
      "A ==> D\n",
      "S ==> D\n",
      "S ==> A\n",
      "D ==> A\n",
      "S ==> D\n",
      "A ==> S\n",
      "A ==> D\n",
      "S ==> D\n",
      "S ==> A\n",
      "D ==> A\n",
      "D ==> S\n",
      "A ==> S\n",
      "D ==> A\n",
      "S ==> D\n",
      "S ==> A\n",
      "D ==> A\n",
      "D ==> S\n",
      "A ==> S\n",
      "A ==> D\n",
      "S ==> D\n",
      "A ==> S\n",
      "D ==> A\n",
      "D ==> S\n",
      "A ==> S\n",
      "D ==> A\n",
      "S ==> D\n",
      "S ==> A\n",
      "D ==> A\n",
      "S ==> D\n",
      "A ==> S\n",
      "A ==> D\n",
      "S ==> D\n",
      "S ==> A\n",
      "D ==> A\n",
      "D ==> S\n",
      "A ==> S\n",
      "D ==> A\n",
      "S ==> D\n",
      "S ==> A\n",
      "D ==> A\n",
      "S ==> D\n",
      "A ==> S\n",
      "A ==> D\n",
      "S ==> D\n",
      "A ==> S\n",
      "D ==> A\n",
      "D ==> S\n",
      "A ==> S\n",
      "A ==> D\n",
      "S ==> D\n",
      "S ==> A\n",
      "D ==> A\n",
      "S ==> D\n",
      "A ==> S\n",
      "A ==> D\n",
      "S ==> D\n",
      "A ==> S\n",
      "D ==> A\n",
      "D ==> S\n",
      "A ==> S\n",
      "D ==> A\n",
      "S ==> D\n",
      "S ==> A\n",
      "D ==> A\n",
      "D ==> S\n",
      "A ==> S\n",
      "A ==> D\n",
      "S ==> D\n",
      "A ==> S\n",
      "D ==> A\n",
      "D ==> S\n",
      "A ==> S\n",
      "A ==> D\n",
      "S ==> D\n",
      "S ==> A\n",
      "D ==> A\n",
      "S ==> D\n",
      "A ==> S\n",
      "A ==> D\n",
      "S ==> D\n",
      "S ==> A\n",
      "D ==> A\n",
      "D ==> S\n",
      "A ==> S\n",
      "D ==> A\n",
      "S ==> D\n",
      "S ==> A\n",
      "D ==> A\n",
      "S ==> D\n",
      "A ==> S\n",
      "A ==> D\n",
      "S ==> D\n",
      "A ==> S\n",
      "D ==> A\n",
      "D ==> S\n",
      "A ==> S\n",
      "A ==> D\n",
      "S ==> D\n",
      "S ==> A\n",
      "D ==> A\n",
      "S ==> D\n",
      "A ==> S\n",
      "A ==> D\n",
      "S ==> D\n"
     ]
    }
   ],
   "source": [
    "n=int(input(\"Enter the number of Disk\"))\n",
    "Toh(n,'S','A','D')\n",
    "\n"
   ]
  },
  {
   "cell_type": "code",
   "execution_count": 67,
   "metadata": {},
   "outputs": [],
   "source": [
    "#how to creat  stack impolementation\n",
    "class Stack:\n",
    "    def __init__(self):\n",
    "        self.array=[]\n",
    "    def Push(self,ele):\n",
    "        self.array.append(ele)\n",
    "    def pop(self):\n",
    "        if self.isEmpty():\n",
    "            print(\"Stack in underflow\")\n",
    "        return self.array.pop()\n",
    "    def size(self):\n",
    "        if self.isEmpty():\n",
    "            return\n",
    "        print(len(self.array))\n",
    "        return len(self.array)\n",
    "    def isEmpty(self):\n",
    "        return self.size==1\n",
    "\n",
    "    def Top(self):\n",
    "        return self.array[-1]   \n",
    "        \n",
    "    \n"
   ]
  },
  {
   "cell_type": "code",
   "execution_count": 68,
   "metadata": {},
   "outputs": [],
   "source": [
    "s1=Stack()\n",
    "s1.Push(8)\n"
   ]
  },
  {
   "cell_type": "code",
   "execution_count": 37,
   "metadata": {},
   "outputs": [],
   "source": [
    "s1.Push(9)"
   ]
  },
  {
   "cell_type": "code",
   "execution_count": 70,
   "metadata": {},
   "outputs": [],
   "source": [
    "s1.Push(77)"
   ]
  },
  {
   "cell_type": "code",
   "execution_count": 39,
   "metadata": {},
   "outputs": [],
   "source": [
    "s1.Push(8)"
   ]
  },
  {
   "cell_type": "code",
   "execution_count": 62,
   "metadata": {},
   "outputs": [
    {
     "data": {
      "text/plain": [
       "8"
      ]
     },
     "execution_count": 62,
     "metadata": {},
     "output_type": "execute_result"
    }
   ],
   "source": [
    "s1.pop()"
   ]
  },
  {
   "cell_type": "code",
   "execution_count": 63,
   "metadata": {},
   "outputs": [
    {
     "name": "stdout",
     "output_type": "stream",
     "text": [
      "0\n"
     ]
    },
    {
     "data": {
      "text/plain": [
       "0"
      ]
     },
     "execution_count": 63,
     "metadata": {},
     "output_type": "execute_result"
    }
   ],
   "source": [
    "s1.size()"
   ]
  },
  {
   "cell_type": "code",
   "execution_count": 64,
   "metadata": {},
   "outputs": [
    {
     "data": {
      "text/plain": [
       "False"
      ]
     },
     "execution_count": 64,
     "metadata": {},
     "output_type": "execute_result"
    }
   ],
   "source": [
    "s1.isEmpty()"
   ]
  },
  {
   "cell_type": "code",
   "execution_count": 71,
   "metadata": {},
   "outputs": [
    {
     "data": {
      "text/plain": [
       "77"
      ]
     },
     "execution_count": 71,
     "metadata": {},
     "output_type": "execute_result"
    }
   ],
   "source": [
    "s1.Top()"
   ]
  }
 ],
 "metadata": {
  "kernelspec": {
   "display_name": "Python 3",
   "language": "python",
   "name": "python3"
  },
  "language_info": {
   "codemirror_mode": {
    "name": "ipython",
    "version": 3
   },
   "file_extension": ".py",
   "mimetype": "text/x-python",
   "name": "python",
   "nbconvert_exporter": "python",
   "pygments_lexer": "ipython3",
   "version": "3.12.0"
  }
 },
 "nbformat": 4,
 "nbformat_minor": 2
}
