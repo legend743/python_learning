{
 "cells": [
  {
   "cell_type": "code",
   "execution_count": 36,
   "metadata": {},
   "outputs": [
    {
     "name": "stdout",
     "output_type": "stream",
     "text": [
      "not a armstrong number 81 333\n"
     ]
    }
   ],
   "source": [
    "n=int(input(\"Enter the number\"))\n",
    "a=n\n",
    "sum=0\n",
    "while(n!=0):\n",
    "    y=n%10\n",
    "    cube=y**3\n",
    "    sum=sum+cube\n",
    "    n=n//10\n",
    "if sum==a:\n",
    "    print(\"this is armstrong number\",sum,a)\n",
    "else:\n",
    "    print(\"not a armstrong number\",sum,a)"
   ]
  },
  {
   "cell_type": "code",
   "execution_count": 56,
   "metadata": {},
   "outputs": [
    {
     "name": "stdout",
     "output_type": "stream",
     "text": [
      "The number is armstrong number 370 370\n"
     ]
    }
   ],
   "source": [
    "arm=int(input(\"Enter the number\"))\n",
    "checkArm=wArm=arm\n",
    "\n",
    "c=0\n",
    "while(arm!=0):\n",
    "    arm=arm//10\n",
    "    c=c+1\n",
    "sumArm=0\n",
    "while wArm!=0:\n",
    "    lastVal=wArm%10\n",
    "    sumArm=sumArm+lastVal**c\n",
    "    wArm=wArm//10\n",
    "if sumArm== checkArm:\n",
    "    print(\"The number is armstrong number\",sumArm,checkArm)\n",
    "else:\n",
    "    print(\"The number is not armstrong number\",sumArm,checkArm)\n",
    "\n",
    "\n"
   ]
  },
  {
   "cell_type": "code",
   "execution_count": 58,
   "metadata": {},
   "outputs": [
    {
     "name": "stdout",
     "output_type": "stream",
     "text": [
      "Faisal\n",
      "1\n",
      "Faisal\n",
      "2\n",
      "Faisal\n",
      "Faisal\n",
      "4\n",
      "Faisal\n",
      "5\n",
      "Faisal\n",
      "Faisal\n",
      "7\n",
      "Faisal\n",
      "8\n",
      "Faisal\n",
      "Faisal\n",
      "10\n"
     ]
    }
   ],
   "source": [
    "# n=int(input(\"enter\"))\n",
    "for i in range(1,11):\n",
    "    print(\"Faisal\")\n",
    "    if i%3==0:\n",
    "        # break;\n",
    "        continue\n",
    "    print(i)"
   ]
  },
  {
   "cell_type": "code",
   "execution_count": 60,
   "metadata": {},
   "outputs": [
    {
     "ename": "IndentationError",
     "evalue": "expected an indented block after 'if' statement on line 3 (1693146653.py, line 4)",
     "output_type": "error",
     "traceback": [
      "\u001b[1;36m  Cell \u001b[1;32mIn[60], line 4\u001b[1;36m\u001b[0m\n\u001b[1;33m    else:\u001b[0m\n\u001b[1;37m    ^\u001b[0m\n\u001b[1;31mIndentationError\u001b[0m\u001b[1;31m:\u001b[0m expected an indented block after 'if' statement on line 3\n"
     ]
    }
   ],
   "source": [
    "#you cannot leave control flow statement  empty\n",
    "for i in range(1,10):\n",
    "    if i==10:\n",
    "    else:\n",
    "        print(i)\n"
   ]
  },
  {
   "cell_type": "code",
   "execution_count": 61,
   "metadata": {},
   "outputs": [
    {
     "name": "stdout",
     "output_type": "stream",
     "text": [
      "Faisal\n"
     ]
    }
   ],
   "source": [
    "#but to overcome this situation\n",
    "if 10>20:\n",
    "    pass\n",
    "print(\"Faisal\")"
   ]
  }
 ],
 "metadata": {
  "kernelspec": {
   "display_name": "Python 3",
   "language": "python",
   "name": "python3"
  },
  "language_info": {
   "codemirror_mode": {
    "name": "ipython",
    "version": 3
   },
   "file_extension": ".py",
   "mimetype": "text/x-python",
   "name": "python",
   "nbconvert_exporter": "python",
   "pygments_lexer": "ipython3",
   "version": "3.12.0"
  }
 },
 "nbformat": 4,
 "nbformat_minor": 2
}
