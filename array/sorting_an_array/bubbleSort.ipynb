{
 "cells": [
  {
   "cell_type": "markdown",
   "metadata": {},
   "source": [
    "Bubble sort algorithm\n",
    "the best case of bubble sort is O(n)\n",
    "Worst case in bubble sort is O(n²)"
   ]
  },
  {
   "cell_type": "code",
   "execution_count": 2,
   "metadata": {},
   "outputs": [
    {
     "name": "stdout",
     "output_type": "stream",
     "text": [
      "[12, 77, 88, 90]\n"
     ]
    }
   ],
   "source": [
    "def bubblesort(arr1):\n",
    "    n=len(arr1)\n",
    "    for i in range(n):\n",
    "        Swapped=False\n",
    "        for j in range(0,n-i-1):\n",
    "            if arr1[j]>arr1[j+1]:\n",
    "                arr1[j],arr1[j+1]=arr1[j+1],arr1[j]\n",
    "                Swapped=True\n",
    "        if not Swapped:\n",
    "            break\n",
    "arr1=[12,88,90,77]\n",
    "bubblesort(arr1)\n",
    "print(arr1)"
   ]
  }
 ],
 "metadata": {
  "kernelspec": {
   "display_name": "Python 3",
   "language": "python",
   "name": "python3"
  },
  "language_info": {
   "codemirror_mode": {
    "name": "ipython",
    "version": 3
   },
   "file_extension": ".py",
   "mimetype": "text/x-python",
   "name": "python",
   "nbconvert_exporter": "python",
   "pygments_lexer": "ipython3",
   "version": "3.12.0"
  }
 },
 "nbformat": 4,
 "nbformat_minor": 2
}
