{
 "cells": [
  {
   "cell_type": "markdown",
   "metadata": {},
   "source": [
    "Merge Sort\n"
   ]
  },
  {
   "cell_type": "code",
   "execution_count": null,
   "metadata": {},
   "outputs": [],
   "source": [
    "\n",
    "def merge_sort(arr1):\n",
    "    n=len(arr1)\n",
    "    if n<=1:\n",
    "        return arr1\n",
    "    \n",
    "    mid=n//2\n",
    "    l=arr1[:mid]\n",
    "    r=arr1[mid:]\n",
    "    l=merge_sort(l)\n",
    "    r=merge_sort(r)\n",
    "    result=merge(r,l)\n",
    "    return result\n",
    "\n",
    "def merge(r,l):\n",
    "    new_merge=[]\n",
    "    i=0\n",
    "    j=0\n",
    "    while i<len(r) and j<len(l):\n",
    "        if l[j]<r[i]:\n",
    "            new_merge.append(l[j])\n",
    "            j+=1\n",
    "        else:\n",
    "            new_merge.append(r[i])\n",
    "            i+=1\n",
    "    \n",
    "    new_merge.extend(l[j:])\n",
    "    new_merge.extend(r[i:])\n",
    "    return new_merge\n",
    "\n",
    "arr1=[20,40,30,60,70,80]\n",
    "sorted_array=merge_sort(arr1)\n",
    "print(sorted_array)\n"
   ]
  }
 ],
 "metadata": {
  "language_info": {
   "name": "python"
  }
 },
 "nbformat": 4,
 "nbformat_minor": 2
}
