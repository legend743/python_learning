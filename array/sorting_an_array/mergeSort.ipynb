{
 "cells": [
  {
   "cell_type": "markdown",
   "metadata": {},
   "source": [
    "Merge Sort\n"
   ]
  },
  {
   "cell_type": "code",
   "execution_count": 1,
   "metadata": {},
   "outputs": [
    {
     "name": "stdout",
     "output_type": "stream",
     "text": [
      "[20, 30, 40, 60, 70, 80]\n"
     ]
    }
   ],
   "source": [
    "\n",
    "def merge_sort(arr1):\n",
    "    n=len(arr1)\n",
    "    if n<=1:\n",
    "        return arr1\n",
    "    \n",
    "    mid=n//2\n",
    "    l=arr1[:mid]\n",
    "    r=arr1[mid:]\n",
    "    l=merge_sort(l)\n",
    "    r=merge_sort(r)\n",
    "    result=merge(r,l)\n",
    "    return result\n",
    "\n",
    "def merge(r,l):\n",
    "    new_merge=[]\n",
    "    i=0\n",
    "    j=0\n",
    "    while i<len(r) and j<len(l):\n",
    "        if l[j]<r[i]:\n",
    "            new_merge.append(l[j])\n",
    "            j+=1\n",
    "        else:\n",
    "            new_merge.append(r[i])\n",
    "            i+=1\n",
    "    \n",
    "    new_merge.extend(l[j:])\n",
    "    new_merge.extend(r[i:])\n",
    "    return new_merge\n",
    "\n",
    "arr1=[20,40,30,60,70,80]\n",
    "sorted_array=merge_sort(arr1)\n",
    "print(sorted_array)\n"
   ]
  }
 ],
 "metadata": {
  "kernelspec": {
   "display_name": "Python 3",
   "language": "python",
   "name": "python3"
  },
  "language_info": {
   "codemirror_mode": {
    "name": "ipython",
    "version": 3
   },
   "file_extension": ".py",
   "mimetype": "text/x-python",
   "name": "python",
   "nbconvert_exporter": "python",
   "pygments_lexer": "ipython3",
   "version": "3.12.0"
  }
 },
 "nbformat": 4,
 "nbformat_minor": 2
}
