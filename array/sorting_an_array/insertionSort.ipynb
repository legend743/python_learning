{
 "cells": [
  {
   "cell_type": "code",
   "execution_count": 1,
   "metadata": {},
   "outputs": [
    {
     "name": "stdout",
     "output_type": "stream",
     "text": [
      "[1, 3, 8, 10, 22]\n"
     ]
    }
   ],
   "source": [
    "list=[10,22,3,8,1]\n",
    "b=[]\n",
    "for i in range(len(list)):\n",
    "    \n",
    "    b.append(min(list))\n",
    "    value=min(list)\n",
    "    list.remove(value)\n",
    "print(b)"
   ]
  },
  {
   "cell_type": "markdown",
   "metadata": {},
   "source": [
    "2nd method for insertion\n"
   ]
  },
  {
   "cell_type": "code",
   "execution_count": 7,
   "metadata": {},
   "outputs": [
    {
     "name": "stdout",
     "output_type": "stream",
     "text": [
      " sorted array is: [10, 20, 30, 40]\n"
     ]
    }
   ],
   "source": [
    "def InsertionSort(arr1):\n",
    "    n=len(arr1)\n",
    "    for i in range(1,n):\n",
    "        key=arr1[i]\n",
    "        j=i-1\n",
    "        while j>=0 and key<arr1[j]:\n",
    "            arr1[j+1]=arr1[j]\n",
    "            j-=1\n",
    "        arr1[j+1]=key\n",
    "arr1=[40,30,20,10]\n",
    "InsertionSort(arr1)\n",
    "print(\" sorted array is:\",arr1)"
   ]
  },
  {
   "cell_type": "code",
   "execution_count": null,
   "metadata": {},
   "outputs": [],
   "source": []
  }
 ],
 "metadata": {
  "kernelspec": {
   "display_name": "Python 3",
   "language": "python",
   "name": "python3"
  },
  "language_info": {
   "codemirror_mode": {
    "name": "ipython",
    "version": 3
   },
   "file_extension": ".py",
   "mimetype": "text/x-python",
   "name": "python",
   "nbconvert_exporter": "python",
   "pygments_lexer": "ipython3",
   "version": "3.12.0"
  }
 },
 "nbformat": 4,
 "nbformat_minor": 2
}
