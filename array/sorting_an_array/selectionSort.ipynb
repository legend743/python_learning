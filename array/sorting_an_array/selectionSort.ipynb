{
 "cells": [
  {
   "cell_type": "markdown",
   "metadata": {},
   "source": [
    "selectionSort"
   ]
  },
  {
   "cell_type": "code",
   "execution_count": null,
   "metadata": {},
   "outputs": [],
   "source": [
    "def SelectionSort(arr1):\n",
    "    n=len(arr1)\n",
    "    for i in range(n-1):\n",
    "        mini=i\n",
    "        for j in range(i+1,n):\n",
    "            if arr1[mini]>arr1[j]:\n",
    "                mini=j\n",
    "                arr1[i],arr1[j]=arr1[mini],arr1[i]\n",
    "            \n",
    "arr1=[12,33,44,55,6]\n",
    "SelectionSort(arr1)\n",
    "print(arr1)"
   ]
  },
  {
   "cell_type": "markdown",
   "metadata": {},
   "source": []
  }
 ],
 "metadata": {
  "language_info": {
   "name": "python"
  }
 },
 "nbformat": 4,
 "nbformat_minor": 2
}
