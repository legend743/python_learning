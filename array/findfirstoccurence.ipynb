{
 "cells": [
  {
   "cell_type": "code",
   "execution_count": 12,
   "metadata": {},
   "outputs": [
    {
     "name": "stdout",
     "output_type": "stream",
     "text": [
      "on index value 2  you will get the first \n",
      "30\n",
      "on index value 5  you will get the first \n",
      "30\n",
      "on index value 6  you will get the first \n",
      "30\n",
      "3\n"
     ]
    }
   ],
   "source": [
    "a=[110,20,30,40,50,30,30,40,33]\n",
    "count=0\n",
    "for i in range(len(a)):\n",
    "    global count\n",
    "    # print(a[i])\n",
    "    if(a[i]==30):\n",
    "        \n",
    "        print(\"on index value\",i, \" you will get the first \")\n",
    "        print(a[i])\n",
    "        count+=1\n",
    "        continue\n",
    "        \n",
    "\n",
    "    \n",
    "print(count)\n",
    "\n",
    "\n"
   ]
  },
  {
   "cell_type": "code",
   "execution_count": 18,
   "metadata": {},
   "outputs": [
    {
     "name": "stdout",
     "output_type": "stream",
     "text": [
      "on index 5 we will get the last occurece of 30\n"
     ]
    }
   ],
   "source": [
    "a=[10,20,30,30,40,30,50,60]\n",
    "for i in range(len(a)):\n",
    "    if(a[i]==30):\n",
    "        b=i\n",
    "        continue\n",
    "print(\"on index\",b,  \"we will get the last occurece of 30\")"
   ]
  },
  {
   "cell_type": "markdown",
   "metadata": {},
   "source": [
    ".Find the element in a sorted array.\n",
    "```hint: [1,2,3,4,5,7,8,]` sum=30\n",
    "`[1,2,3,4,5,6,7,8] sum=36`\n",
    "`ap=n/2[a+l]"
   ]
  },
  {
   "cell_type": "code",
   "execution_count": 37,
   "metadata": {},
   "outputs": [
    {
     "name": "stdout",
     "output_type": "stream",
     "text": [
      "[10, 20, 30, 40, 50, 70, 60.0]\n"
     ]
    }
   ],
   "source": [
    "def findMissig(a):\n",
    "    x=a[0]\n",
    "    y=a[-1]\n",
    "    sum1=0\n",
    "    n=1\n",
    "    for i in range(len(a)):\n",
    "        sum1=sum1+a[i]\n",
    "        n+=1\n",
    "\n",
    "    ap=n/2*(x+y)\n",
    "    missing_number=ap-sum1\n",
    "    # print(sum1)\n",
    "    # print(n)\n",
    "    # print(x)\n",
    "    # print(y)\n",
    "    # print(ap)\n",
    "    # print(missing_number)\n",
    "    a.append(missing_number)\n",
    "    print(a)\n",
    "\n",
    "# a=[10,20,30,40,60]\n",
    "# a=int(input())\n",
    "# mylist=[x for x in a .split()]\n",
    "input_string = input(\"Enter elements of the list separated by space: \")\n",
    "my_list = [int(x) for x in input_string.split()]\n",
    "\n",
    "\n",
    "findMissig(my_list)"
   ]
  },
  {
   "cell_type": "markdown",
   "metadata": {},
   "source": [
    "Rearrange Array elements with sign[leetcode]\n",
    "```\n",
    "i/p=[3,1,-2,-5,2,-4]\n",
    "o/p=[3,-2,1,-5,2,-4]\n",
    "```"
   ]
  },
  {
   "cell_type": "code",
   "execution_count": 54,
   "metadata": {},
   "outputs": [
    {
     "ename": "KeyboardInterrupt",
     "evalue": "",
     "output_type": "error",
     "traceback": [
      "\u001b[1;31m---------------------------------------------------------------------------\u001b[0m",
      "\u001b[1;31mKeyboardInterrupt\u001b[0m                         Traceback (most recent call last)",
      "\u001b[1;32mc:\\Users\\legen\\Pyhton_Jupyter\\python_learning\\array\\findfirstoccurence.ipynb Cell 6\u001b[0m line \u001b[0;36m4\n\u001b[0;32m      <a href='vscode-notebook-cell:/c%3A/Users/legen/Pyhton_Jupyter/python_learning/array/findfirstoccurence.ipynb#X11sZmlsZQ%3D%3D?line=1'>2</a>\u001b[0m arrange_list\u001b[39m=\u001b[39m[]\n\u001b[0;32m      <a href='vscode-notebook-cell:/c%3A/Users/legen/Pyhton_Jupyter/python_learning/array/findfirstoccurence.ipynb#X11sZmlsZQ%3D%3D?line=2'>3</a>\u001b[0m buffer\u001b[39m=\u001b[39m[]\n\u001b[1;32m----> <a href='vscode-notebook-cell:/c%3A/Users/legen/Pyhton_Jupyter/python_learning/array/findfirstoccurence.ipynb#X11sZmlsZQ%3D%3D?line=3'>4</a>\u001b[0m \u001b[39mfor\u001b[39;49;00m i \u001b[39min\u001b[39;49;00m \u001b[39mrange\u001b[39;49m(\u001b[39mlen\u001b[39;49m(a)):\n\u001b[0;32m      <a href='vscode-notebook-cell:/c%3A/Users/legen/Pyhton_Jupyter/python_learning/array/findfirstoccurence.ipynb#X11sZmlsZQ%3D%3D?line=4'>5</a>\u001b[0m     \u001b[39mglobal\u001b[39;49;00m buffer\n\u001b[0;32m      <a href='vscode-notebook-cell:/c%3A/Users/legen/Pyhton_Jupyter/python_learning/array/findfirstoccurence.ipynb#X11sZmlsZQ%3D%3D?line=5'>6</a>\u001b[0m     \u001b[39mglobal\u001b[39;49;00m arrange_list\n",
      "File \u001b[1;32m~\\AppData\\Roaming\\Python\\Python312\\site-packages\\debugpy\\_vendored\\pydevd\\_pydevd_bundle\\pydevd_frame.py:1197\u001b[0m, in \u001b[0;36mPyDBFrame.trace_dispatch\u001b[1;34m(self, frame, event, arg)\u001b[0m\n\u001b[0;32m   1195\u001b[0m \u001b[39mif\u001b[39;00m is_line:\n\u001b[0;32m   1196\u001b[0m     \u001b[39mself\u001b[39m\u001b[39m.\u001b[39mset_suspend(thread, step_cmd, original_step_cmd\u001b[39m=\u001b[39minfo\u001b[39m.\u001b[39mpydev_original_step_cmd)\n\u001b[1;32m-> 1197\u001b[0m     \u001b[39mself\u001b[39;49m\u001b[39m.\u001b[39;49mdo_wait_suspend(thread, frame, event, arg)\n\u001b[0;32m   1198\u001b[0m \u001b[39melif\u001b[39;00m is_return:  \u001b[39m# return event\u001b[39;00m\n\u001b[0;32m   1199\u001b[0m     back \u001b[39m=\u001b[39m frame\u001b[39m.\u001b[39mf_back\n",
      "File \u001b[1;32m~\\AppData\\Roaming\\Python\\Python312\\site-packages\\debugpy\\_vendored\\pydevd\\_pydevd_bundle\\pydevd_frame.py:165\u001b[0m, in \u001b[0;36mPyDBFrame.do_wait_suspend\u001b[1;34m(self, *args, **kwargs)\u001b[0m\n\u001b[0;32m    164\u001b[0m \u001b[39mdef\u001b[39;00m \u001b[39mdo_wait_suspend\u001b[39m(\u001b[39mself\u001b[39m, \u001b[39m*\u001b[39margs, \u001b[39m*\u001b[39m\u001b[39m*\u001b[39mkwargs):\n\u001b[1;32m--> 165\u001b[0m     \u001b[39mself\u001b[39;49m\u001b[39m.\u001b[39;49m_args[\u001b[39m0\u001b[39;49m]\u001b[39m.\u001b[39;49mdo_wait_suspend(\u001b[39m*\u001b[39;49margs, \u001b[39m*\u001b[39;49m\u001b[39m*\u001b[39;49mkwargs)\n",
      "File \u001b[1;32m~\\AppData\\Roaming\\Python\\Python312\\site-packages\\debugpy\\_vendored\\pydevd\\pydevd.py:2070\u001b[0m, in \u001b[0;36mPyDB.do_wait_suspend\u001b[1;34m(self, thread, frame, event, arg, exception_type)\u001b[0m\n\u001b[0;32m   2067\u001b[0m             from_this_thread\u001b[39m.\u001b[39mappend(frame_custom_thread_id)\n\u001b[0;32m   2069\u001b[0m     \u001b[39mwith\u001b[39;00m \u001b[39mself\u001b[39m\u001b[39m.\u001b[39m_threads_suspended_single_notification\u001b[39m.\u001b[39mnotify_thread_suspended(thread_id, thread, stop_reason):\n\u001b[1;32m-> 2070\u001b[0m         keep_suspended \u001b[39m=\u001b[39m \u001b[39mself\u001b[39;49m\u001b[39m.\u001b[39;49m_do_wait_suspend(thread, frame, event, arg, suspend_type, from_this_thread, frames_tracker)\n\u001b[0;32m   2072\u001b[0m frames_list \u001b[39m=\u001b[39m \u001b[39mNone\u001b[39;00m\n\u001b[0;32m   2074\u001b[0m \u001b[39mif\u001b[39;00m keep_suspended:\n\u001b[0;32m   2075\u001b[0m     \u001b[39m# This means that we should pause again after a set next statement.\u001b[39;00m\n",
      "File \u001b[1;32m~\\AppData\\Roaming\\Python\\Python312\\site-packages\\debugpy\\_vendored\\pydevd\\pydevd.py:2106\u001b[0m, in \u001b[0;36mPyDB._do_wait_suspend\u001b[1;34m(self, thread, frame, event, arg, suspend_type, from_this_thread, frames_tracker)\u001b[0m\n\u001b[0;32m   2103\u001b[0m         \u001b[39mself\u001b[39m\u001b[39m.\u001b[39m_call_input_hook()\n\u001b[0;32m   2105\u001b[0m     \u001b[39mself\u001b[39m\u001b[39m.\u001b[39mprocess_internal_commands()\n\u001b[1;32m-> 2106\u001b[0m     time\u001b[39m.\u001b[39;49msleep(\u001b[39m0.01\u001b[39;49m)\n\u001b[0;32m   2108\u001b[0m \u001b[39mself\u001b[39m\u001b[39m.\u001b[39mcancel_async_evaluation(get_current_thread_id(thread), \u001b[39mstr\u001b[39m(\u001b[39mid\u001b[39m(frame)))\n\u001b[0;32m   2110\u001b[0m \u001b[39m# process any stepping instructions\u001b[39;00m\n",
      "\u001b[1;31mKeyboardInterrupt\u001b[0m: "
     ]
    }
   ],
   "source": [
    "a=[3,1,-2,-5,2,-4]\n",
    "arrange_list=[]\n",
    "buffer=[]\n",
    "for i in range(len(a)):\n",
    "    global buffer\n",
    "    global arrange_list\n",
    "    if  a[i]:\n",
    "        if not buffer:\n",
    "            arrange_list.append(a[i])\n",
    "        else:\n",
    "            for i in range(len(buffer)):\n",
    "                if buffer[i]>0:\n",
    "                    buffer.append[buffer[i]]\n",
    "                print(buffer,\"buffer\")\n",
    "                \n",
    "            if(a[i]<0):\n",
    "                arrange_list.append(a[i])\n",
    "\n",
    "                \n",
    "        \n",
    "print(arrange_list)\n"
   ]
  },
  {
   "cell_type": "code",
   "execution_count": 73,
   "metadata": {},
   "outputs": [
    {
     "name": "stdout",
     "output_type": "stream",
     "text": [
      "[1] this is buffer value\n",
      "[3, -2, 1, -5, 2, -4]\n"
     ]
    }
   ],
   "source": [
    "a=[3,1,-2,-5,2,-4]\n",
    "l=[]\n",
    "buffer=[]\n",
    "for value in a:\n",
    "    if value>0:\n",
    "        if not buffer and not l:\n",
    "            l.append(value)\n",
    "            continue\n",
    "        if l[-1]<0:\n",
    "            l.append(value)\n",
    "            continue\n",
    "        else:\n",
    "            buffer.append(value)\n",
    "            # print(buffer,\"this is buffer value\")\n",
    "            continue\n",
    "    if value<0:\n",
    "        l.append(value)\n",
    "        if buffer:\n",
    "            l.append(buffer[0])\n",
    "\n",
    "            buffer=[]\n",
    "print(l)\n"
   ]
  },
  {
   "cell_type": "code",
   "execution_count": 72,
   "metadata": {},
   "outputs": [
    {
     "name": "stdout",
     "output_type": "stream",
     "text": [
      "22\n",
      "22 else value\n",
      "33\n",
      "33 else value\n",
      "545\n",
      "545 else value\n",
      "77\n",
      "77 else value\n"
     ]
    }
   ],
   "source": [
    "a=[22,33,545,77]\n",
    "for value in a:\n",
    "    print(value)\n",
    "    if value<22:\n",
    "        print(value)\n",
    "        continue\n",
    "    else:\n",
    "        print(value,\"else value\")\n",
    "\n"
   ]
  }
 ],
 "metadata": {
  "kernelspec": {
   "display_name": "Python 3",
   "language": "python",
   "name": "python3"
  },
  "language_info": {
   "codemirror_mode": {
    "name": "ipython",
    "version": 3
   },
   "file_extension": ".py",
   "mimetype": "text/x-python",
   "name": "python",
   "nbconvert_exporter": "python",
   "pygments_lexer": "ipython3",
   "version": "3.12.0"
  }
 },
 "nbformat": 4,
 "nbformat_minor": 2
}
