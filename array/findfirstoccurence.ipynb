{
 "cells": [
  {
   "cell_type": "code",
   "execution_count": 12,
   "metadata": {},
   "outputs": [
    {
     "name": "stdout",
     "output_type": "stream",
     "text": [
      "on index value 2  you will get the first \n",
      "30\n",
      "on index value 5  you will get the first \n",
      "30\n",
      "on index value 6  you will get the first \n",
      "30\n",
      "3\n"
     ]
    }
   ],
   "source": [
    "a=[110,20,30,40,50,30,30,40,33]\n",
    "count=0\n",
    "for i in range(len(a)):\n",
    "    global count\n",
    "    # print(a[i])\n",
    "    if(a[i]==30):\n",
    "        \n",
    "        print(\"on index value\",i, \" you will get the first \")\n",
    "        print(a[i])\n",
    "        count+=1\n",
    "        continue\n",
    "        \n",
    "\n",
    "    \n",
    "print(count)\n",
    "\n",
    "\n"
   ]
  },
  {
   "cell_type": "code",
   "execution_count": 18,
   "metadata": {},
   "outputs": [
    {
     "name": "stdout",
     "output_type": "stream",
     "text": [
      "on index 5 we will get the last occurece of 30\n"
     ]
    }
   ],
   "source": [
    "a=[10,20,30,30,40,30,50,60]\n",
    "for i in range(len(a)):\n",
    "    if(a[i]==30):\n",
    "        b=i\n",
    "        continue\n",
    "print(\"on index\",b,  \"we will get the last occurece of 30\")"
   ]
  },
  {
   "cell_type": "markdown",
   "metadata": {},
   "source": [
    ".Find the element in a sorted array.\n",
    "```hint: [1,2,3,4,5,7,8,]` sum=30\n",
    "`[1,2,3,4,5,6,7,8] sum=36`\n",
    "`ap=n/2[a+l]"
   ]
  },
  {
   "cell_type": "code",
   "execution_count": 37,
   "metadata": {},
   "outputs": [
    {
     "name": "stdout",
     "output_type": "stream",
     "text": [
      "[10, 20, 30, 40, 50, 70, 60.0]\n"
     ]
    }
   ],
   "source": [
    "def findMissig(a):\n",
    "    x=a[0]\n",
    "    y=a[-1]\n",
    "    sum1=0\n",
    "    n=1\n",
    "    for i in range(len(a)):\n",
    "        sum1=sum1+a[i]\n",
    "        n+=1\n",
    "\n",
    "    ap=n/2*(x+y)\n",
    "    missing_number=ap-sum1\n",
    "    # print(sum1)\n",
    "    # print(n)\n",
    "    # print(x)\n",
    "    # print(y)\n",
    "    # print(ap)\n",
    "    # print(missing_number)\n",
    "    a.append(missing_number)\n",
    "    print(a)\n",
    "\n",
    "# a=[10,20,30,40,60]\n",
    "# a=int(input())\n",
    "# mylist=[x for x in a .split()]\n",
    "input_string = input(\"Enter elements of the list separated by space: \")\n",
    "my_list = [int(x) for x in input_string.split()]\n",
    "\n",
    "\n",
    "findMissig(my_list)"
   ]
  },
  {
   "cell_type": "markdown",
   "metadata": {},
   "source": [
    "Rearrange Array elements with sign[leetcode]\n",
    "```\n",
    "i/p=[3,1,-2,-5,2,-4]\n",
    "o/p=[3,-2,1,-5,2,-4]\n",
    "```"
   ]
  },
  {
   "cell_type": "code",
   "execution_count": null,
   "metadata": {},
   "outputs": [],
   "source": [
    "a=[3,1,-2,-5,2,-4]\n",
    "arrange_list=[]\n",
    "buffer=[]\n",
    "for i in range(len(a)):\n",
    "    global buffer\n",
    "    global arrange_list\n",
    "    if  a[i]:\n",
    "        if not buffer:\n",
    "            arrange_list.append(a[i])\n",
    "        else:\n",
    "            for i in range(len(buffer)):\n",
    "                if buffer[i]>0:\n",
    "                    buffer.append[buffer[i]]\n",
    "                print(buffer,\"buffer\")\n",
    "                \n",
    "            if(a[i]<0):\n",
    "                arrange_list.append(a[i])\n",
    "\n",
    "                \n",
    "        \n",
    "print(arrange_list)\n"
   ]
  },
  {
   "cell_type": "code",
   "execution_count": 74,
   "metadata": {},
   "outputs": [
    {
     "name": "stdout",
     "output_type": "stream",
     "text": [
      "[3, -2, 1, -5, 2, -4]\n"
     ]
    }
   ],
   "source": [
    "a=[3,1,-2,-5,2,-4]\n",
    "l=[]\n",
    "buffer=[]\n",
    "for value in a:\n",
    "    if value>0:\n",
    "        if not buffer and not l:\n",
    "            l.append(value)\n",
    "            continue\n",
    "        if l[-1]<0:\n",
    "            l.append(value)\n",
    "            continue\n",
    "        else:\n",
    "            buffer.append(value)\n",
    "            # print(buffer,\"this is buffer value\")\n",
    "            continue\n",
    "    if value<0:\n",
    "        l.append(value)\n",
    "        if buffer:\n",
    "            l.append(buffer[0])\n",
    "\n",
    "            buffer=[]\n",
    "print(l)\n"
   ]
  },
  {
   "cell_type": "markdown",
   "metadata": {},
   "source": [
    "Sort 0's And 1's\n",
    "\n",
    "\ti/p `[0 1 0 1 1 0 0 0 0]`\n",
    "\to/p `[0, 1, 0, 1, 0, 1, 0]`\n"
   ]
  },
  {
   "cell_type": "code",
   "execution_count": 76,
   "metadata": {},
   "outputs": [
    {
     "name": "stdout",
     "output_type": "stream",
     "text": [
      "your sorted array is [0, 1, 0, 1, 0, 1, 0]\n",
      "[0, 0] left temporary value\n"
     ]
    }
   ],
   "source": [
    "a=[0,1,0,1,1,0,0,0,0]\n",
    "sorted_array=[]\n",
    "temp=[]\n",
    "for value in a:\n",
    "    if value==0:\n",
    "        if not sorted_array:\n",
    "            sorted_array.append(value)\n",
    "            continue\n",
    "        if sorted_array[-1]==1:\n",
    "            sorted_array.append(value)\n",
    "            if temp:\n",
    "                sorted_array.append(temp[-1])\n",
    "                temp=[]\n",
    "            continue\n",
    "        else:\n",
    "            temp.append(value)\n",
    "            continue\n",
    "    if value==1:\n",
    "        if sorted_array and sorted_array[-1]==0:\n",
    "            sorted_array.append(value)\n",
    "            if temp:\n",
    "                sorted_array(temp[-1])\n",
    "                temp=[]\n",
    "                continue\n",
    "        else:\n",
    "\n",
    "            if not temp:\n",
    "                temp.append(value)\n",
    "                continue\n",
    "            temp=[]\n",
    "print(\"your sorted array is\",sorted_array)\n",
    "print(temp,\"left temporary value\")\n",
    "\n"
   ]
  },
  {
   "cell_type": "markdown",
   "metadata": {},
   "source": [
    "Q9.Sort 0's And 1's.\n",
    "\ti/p `[0 1 0 1 1 0 0 0 0]`\n",
    "\to/p `[0 0 0 0 0 0 1 1 1]`"
   ]
  },
  {
   "cell_type": "code",
   "execution_count": 84,
   "metadata": {},
   "outputs": [
    {
     "name": "stdout",
     "output_type": "stream",
     "text": [
      "[0, 0, 0, 0, 0, 0, 1, 1, 1]\n",
      "[1, 1, 1]\n",
      "total count of 1 is 3\n",
      "total count of 0 is 6\n"
     ]
    }
   ],
   "source": [
    "a=[0,1,0,1,1,0,0,0,0]\n",
    "sorted_array=[]\n",
    "temp=[]\n",
    "count0=1\n",
    "for value in a:\n",
    "    if value==0:\n",
    "        if not sorted_array:\n",
    "            sorted_array.append(value)\n",
    "            continue\n",
    "        if sorted_array[-1]==0:\n",
    "            sorted_array.append(value)\n",
    "        count0+=1\n",
    "    if value==1:\n",
    "        temp.append(value)\n",
    "count1=0\n",
    "sorted_array\n",
    "for value in temp:\n",
    "    sorted_array.append(value)\n",
    "    count1+=1\n",
    "print(sorted_array)\n",
    "print(temp)\n",
    "print(\"total count of 1 is\",count1)\n",
    "print(\"total count of 0 is\",count0)\n",
    "\n"
   ]
  },
  {
   "cell_type": "markdown",
   "metadata": {},
   "source": [
    "Q10.Shift Array element by 1.\n",
    "\n",
    "\ti/p `[10 20 30 40 50 60]`\n",
    "\to/p [60 10 20 30 40 50]"
   ]
  },
  {
   "cell_type": "code",
   "execution_count": 78,
   "metadata": {},
   "outputs": [
    {
     "name": "stdout",
     "output_type": "stream",
     "text": [
      "shifted array is: [60, 10, 20, 30, 40, 50]\n"
     ]
    }
   ],
   "source": [
    "a=[10,20,30,40,50,60]\n",
    "b=[]\n",
    "for i in range(-1,len(a)-1):\n",
    "    b.append(a[i])\n",
    "\n",
    "print(\"shifted array is:\",b)"
   ]
  },
  {
   "cell_type": "markdown",
   "metadata": {},
   "source": [
    "Shift array by 2\n",
    "\ti/p `[10 20 30 40 50 60]`\n",
    "\to/p [50,60,10,20,30,40]"
   ]
  },
  {
   "cell_type": "code",
   "execution_count": 80,
   "metadata": {},
   "outputs": [
    {
     "name": "stdout",
     "output_type": "stream",
     "text": [
      "shifted array by 2 is: [50, 60, 10, 20, 30, 40]\n"
     ]
    }
   ],
   "source": [
    "a=[10,20,30,40,50,60]\n",
    "b=[]\n",
    "for i in range(-2,len(a)-2):\n",
    "    b.append(a[i])\n",
    "print(\"shifted array by 2 is:\",b)"
   ]
  },
  {
   "cell_type": "markdown",
   "metadata": {},
   "source": [
    "Find the maximum number in the array\n",
    "a=[10,20,30,40,50,60]"
   ]
  },
  {
   "cell_type": "code",
   "execution_count": 2,
   "metadata": {},
   "outputs": [
    {
     "name": "stdout",
     "output_type": "stream",
     "text": [
      "60\n"
     ]
    }
   ],
   "source": [
    "# a=[10,20,40,30,50,60]\n",
    "# a=[10,20,30,40,50,60,70,80,90]\n",
    "# a=[90,60,40,20,55]\n",
    "# a=[20,30,40,18,2]\n",
    "a=[10,20,30,40,60,-90,0]\n",
    "# c=None\n",
    "d=None\n",
    "for value in a:\n",
    "    b=value\n",
    "    d\n",
    "    for value in a:\n",
    "        if b>=value:\n",
    "            d=b\n",
    "            continue\n",
    "        else:\n",
    "            break\n",
    "        \n",
    "print(d)\n",
    "            \n"
   ]
  },
  {
   "cell_type": "code",
   "execution_count": 2,
   "metadata": {},
   "outputs": [
    {
     "name": "stdout",
     "output_type": "stream",
     "text": [
      "60\n"
     ]
    }
   ],
   "source": [
    "a = [90, 60, 40, 20, 55]\n",
    "c = None  # Initialize c before the loop\n",
    "\n",
    "for b in a:\n",
    "    for value in a:\n",
    "        if b <= value:\n",
    "            continue\n",
    "        elif c is None or c < value:\n",
    "            c = value\n",
    "\n",
    "print(c)\n"
   ]
  },
  {
   "cell_type": "code",
   "execution_count": 4,
   "metadata": {},
   "outputs": [
    {
     "name": "stdout",
     "output_type": "stream",
     "text": [
      "8\n"
     ]
    }
   ],
   "source": [
    "arr1=[1,2,3,4,5,6,7,9]\n",
    "n=len(arr1)\n",
    "for i in range(1,n+1):\n",
    "    if i not in arr1:\n",
    "        print(i)\n",
    "    \n"
   ]
  },
  {
   "cell_type": "code",
   "execution_count": 4,
   "metadata": {},
   "outputs": [
    {
     "name": "stdout",
     "output_type": "stream",
     "text": [
      "33\n"
     ]
    }
   ],
   "source": [
    "arr2=[10,20,33,22,40,21]\n",
    "#  first check the max value in the array\n",
    "# print(max(arr2))\n",
    "# store it in variable\n",
    "n=max(arr2)\n",
    "# remove that max element from the array\n",
    "arr2.remove(n)\n",
    "# now list has 2nd largest element\n",
    "print(max(arr2))\n",
    "\n"
   ]
  },
  {
   "cell_type": "code",
   "execution_count": null,
   "metadata": {},
   "outputs": [],
   "source": []
  },
  {
   "cell_type": "code",
   "execution_count": 8,
   "metadata": {},
   "outputs": [
    {
     "data": {
      "image/png": "[encoded data removed]",
      "text/plain": [
       "<Figure size 640x480 with 1 Axes>"
      ]
     },
     "metadata": {},
     "output_type": "display_data"
    },
    {
     "data": {
      "image/png": "[encoded data removed]",
      "text/plain": [
       "<Figure size 640x480 with 1 Axes>"
      ]
     },
     "metadata": {},
     "output_type": "display_data"
    }
   ],
   "source": [
    "from matplotlib import pyplot as plt\n",
    "x=[0,2,3,4,6,8]\n",
    "y=[10,20,30,40,50,60]\n",
    "plt.plot(x,y)\n",
    "plt.title(\"simple line chart\")\n",
    "plt.show()\n",
    "plt.scatter(x,y,color=\"green\")\n",
    "plt.show()"
   ]
  },
  {
   "cell_type": "code",
   "execution_count": 9,
   "metadata": {},
   "outputs": [
    {
     "data": {
      "image/png": "[encoded data removed]",
      "text/plain": [
       "<Figure size 640x480 with 1 Axes>"
      ]
     },
     "metadata": {},
     "output_type": "display_data"
    }
   ],
   "source": [
    "x=[10,23,44,66]\n",
    "\n",
    "plt.pie(x)\n",
    "plt.show()"
   ]
  },
  {
   "cell_type": "code",
   "execution_count": null,
   "metadata": {},
   "outputs": [],
   "source": [
    "import numpy as np\n",
    "import pandas as pd\n",
    "from sklearn.decomposition import PCA\n",
    "from sklearn.preprocessing import StandardScaler\n",
    "import matplotlib.pyplot as plt\n",
    "\n",
    "# Step 1: Read the dataset\n",
    "# Replace 'your_dataset.csv' with the path to your dataset\n",
    "dataset_path = 'your_dataset.csv'\n",
    "df = pd.read_csv(dataset_path)\n",
    "\n",
    "# Step 2: Separate features and target variable (if applicable)\n",
    "# For this example, assuming all columns are features\n",
    "X = df.drop('target', axis=1)  # Replace 'target' with the actual target variable if present\n",
    "\n",
    "# Step 3: Standardize the features (important for PCA)\n",
    "scaler = StandardScaler()\n",
    "X_scaled = scaler.fit_transform(X)\n",
    "\n",
    "# Step 4: Perform PCA\n",
    "# Choose the number of components (new dimensions) based on explained variance\n",
    "n_components = 2  # Change this value based on the desired number of components\n",
    "pca = PCA(n_components=n_components)\n",
    "X_pca = pca.fit_transform(X_scaled)\n",
    "\n",
    "# Step 5: Display the variance explained by each principal component\n",
    "explained_variance_ratio = pca.explained_variance_ratio_\n",
    "print(\"Explained Variance Ratio:\")\n",
    "print(explained_variance_ratio)\n",
    "print(\"Total Explained Variance:\", np.sum(explained_variance_ratio))\n",
    "\n",
    "# Step 6: Visualize the data in the reduced-dimensional space\n",
    "plt.figure(figsize=(8, 6))\n",
    "plt.scatter(X_pca[:, 0], X_pca[:, 1], c=df['target'], cmap='viridis')\n",
    "plt.title(\"2D PCA Visualization\")\n",
    "plt.xlabel(\"Principal Component 1\")\n",
    "plt.ylabel(\"Principal Component 2\")\n",
    "plt.show()\n"
   ]
  }
 ],
 "metadata": {
  "kernelspec": {
   "display_name": "Python 3",
   "language": "python",
   "name": "python3"
  },
  "language_info": {
   "codemirror_mode": {
    "name": "ipython",
    "version": 3
   },
   "file_extension": ".py",
   "mimetype": "text/x-python",
   "name": "python",
   "nbconvert_exporter": "python",
   "pygments_lexer": "ipython3",
   "version": "3.12.0"
  }
 },
 "nbformat": 4,
 "nbformat_minor": 2
}
