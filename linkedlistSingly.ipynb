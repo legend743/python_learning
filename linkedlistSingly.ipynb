{
 "cells": [
  {
   "cell_type": "code",
   "execution_count": 12,
   "metadata": {},
   "outputs": [
    {
     "ename": "TypeError",
     "evalue": "Node.__init__() missing 1 required positional argument: 'data'",
     "output_type": "error",
     "traceback": [
      "\u001b[1;31m---------------------------------------------------------------------------\u001b[0m",
      "\u001b[1;31mTypeError\u001b[0m                                 Traceback (most recent call last)",
      "\u001b[1;32mc:\\Users\\legen\\Pyhton_Jupyter\\python_learning\\linkedlistSingly.ipynb Cell 1\u001b[0m line \u001b[0;36m1\n\u001b[0;32m     <a href='vscode-notebook-cell:/c%3A/Users/legen/Pyhton_Jupyter/python_learning/linkedlistSingly.ipynb#W0sZmlsZQ%3D%3D?line=15'>16</a>\u001b[0m                 head\u001b[39m.\u001b[39mnext\u001b[39m=\u001b[39mnew_node\n\u001b[0;32m     <a href='vscode-notebook-cell:/c%3A/Users/legen/Pyhton_Jupyter/python_learning/linkedlistSingly.ipynb#W0sZmlsZQ%3D%3D?line=16'>17</a>\u001b[0m             \u001b[39mreturn\u001b[39;00m head\n\u001b[1;32m---> <a href='vscode-notebook-cell:/c%3A/Users/legen/Pyhton_Jupyter/python_learning/linkedlistSingly.ipynb#W0sZmlsZQ%3D%3D?line=17'>18</a>\u001b[0m LinkeList()\n\u001b[0;32m     <a href='vscode-notebook-cell:/c%3A/Users/legen/Pyhton_Jupyter/python_learning/linkedlistSingly.ipynb#W0sZmlsZQ%3D%3D?line=18'>19</a>\u001b[0m \u001b[39mdef\u001b[39;00m \u001b[39mprintll\u001b[39m(head):\n\u001b[0;32m     <a href='vscode-notebook-cell:/c%3A/Users/legen/Pyhton_Jupyter/python_learning/linkedlistSingly.ipynb#W0sZmlsZQ%3D%3D?line=19'>20</a>\u001b[0m     \u001b[39mwhile\u001b[39;00m head \u001b[39mis\u001b[39;00m \u001b[39mnot\u001b[39;00m \u001b[39mNone\u001b[39;00m:\n",
      "\u001b[1;32mc:\\Users\\legen\\Pyhton_Jupyter\\python_learning\\linkedlistSingly.ipynb Cell 1\u001b[0m line \u001b[0;36m1\n\u001b[0;32m      <a href='vscode-notebook-cell:/c%3A/Users/legen/Pyhton_Jupyter/python_learning/linkedlistSingly.ipynb#W0sZmlsZQ%3D%3D?line=7'>8</a>\u001b[0m \u001b[39mfor\u001b[39;00m i \u001b[39min\u001b[39;00m \u001b[39mrange\u001b[39m(\u001b[39mlen\u001b[39m(l)):\n\u001b[0;32m      <a href='vscode-notebook-cell:/c%3A/Users/legen/Pyhton_Jupyter/python_learning/linkedlistSingly.ipynb#W0sZmlsZQ%3D%3D?line=8'>9</a>\u001b[0m     head \u001b[39m=\u001b[39m\u001b[39mNone\u001b[39;00m\n\u001b[1;32m---> <a href='vscode-notebook-cell:/c%3A/Users/legen/Pyhton_Jupyter/python_learning/linkedlistSingly.ipynb#W0sZmlsZQ%3D%3D?line=9'>10</a>\u001b[0m     new_node\u001b[39m=\u001b[39mNode()\n\u001b[0;32m     <a href='vscode-notebook-cell:/c%3A/Users/legen/Pyhton_Jupyter/python_learning/linkedlistSingly.ipynb#W0sZmlsZQ%3D%3D?line=10'>11</a>\u001b[0m     \u001b[39mif\u001b[39;00m head \u001b[39mis\u001b[39;00m \u001b[39mNone\u001b[39;00m:\n\u001b[0;32m     <a href='vscode-notebook-cell:/c%3A/Users/legen/Pyhton_Jupyter/python_learning/linkedlistSingly.ipynb#W0sZmlsZQ%3D%3D?line=11'>12</a>\u001b[0m         head\u001b[39m=\u001b[39mnew_node\n",
      "\u001b[1;31mTypeError\u001b[0m: Node.__init__() missing 1 required positional argument: 'data'"
     ]
    }
   ],
   "source": [
    "l=[int(ele) for ele in input().split()]\n",
    "class Node:\n",
    "    def __init__(self,data):\n",
    "        self.data=data\n",
    "        self.next=None\n",
    "    # head=None\n",
    "def LinkeList():\n",
    "    for i in range(len(l)):\n",
    "        head =None\n",
    "        new_node=Node()\n",
    "        if head is None:\n",
    "            head=new_node\n",
    "        else:\n",
    "            current=head\n",
    "            while current is not None:\n",
    "                head.next=new_node\n",
    "            return head\n",
    "LinkeList(l)\n",
    "def printll(head):\n",
    "    while head is not None:\n",
    "        head=head.next\n",
    "        print(head.data)\n",
    "\n",
    "printll()"
   ]
  }
 ],
 "metadata": {
  "kernelspec": {
   "display_name": "Python 3",
   "language": "python",
   "name": "python3"
  },
  "language_info": {
   "codemirror_mode": {
    "name": "ipython",
    "version": 3
   },
   "file_extension": ".py",
   "mimetype": "text/x-python",
   "name": "python",
   "nbconvert_exporter": "python",
   "pygments_lexer": "ipython3",
   "version": "3.12.0"
  }
 },
 "nbformat": 4,
 "nbformat_minor": 2
}
