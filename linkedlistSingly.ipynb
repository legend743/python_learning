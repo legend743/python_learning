{
 "cells": [
  {
   "cell_type": "code",
   "execution_count": 56,
   "metadata": {},
   "outputs": [],
   "source": [
    "# l=[int(ele) for ele in input().split()]\n",
    "# class Node:\n",
    "#     def __init__(self,data):\n",
    "#         self.data=data\n",
    "#         self.next=None\n",
    "    \n",
    "# def LinkeList():\n",
    "#     for i in range(len(l)):\n",
    "#         head =None\n",
    "#         new_node=Node(l[i])\n",
    "#         if head is None:\n",
    "#             head=new_node\n",
    "#         else:\n",
    "#             current=head\n",
    "#             while current is not None:\n",
    "#                 current=current.next\n",
    "#             current.next=new_node\n",
    "#     return head\n",
    "# head=LinkeList()\n",
    "# def printll(head):\n",
    "#     current=head\n",
    "#     while current is not None:\n",
    "#         current=current.next\n",
    "        \n",
    "\n",
    "# printll(head)"
   ]
  },
  {
   "cell_type": "code",
   "execution_count": 57,
   "metadata": {},
   "outputs": [
    {
     "name": "stdout",
     "output_type": "stream",
     "text": [
      "1\n",
      "2\n",
      "3\n",
      "4\n",
      "5\n",
      "6\n",
      "7\n",
      "8\n",
      "9\n",
      "9 this is last element of linked list\n"
     ]
    }
   ],
   "source": [
    "\n",
    "class Node:\n",
    "    def __init__(self,data):\n",
    "        self.data=data\n",
    "        self.next=None\n",
    "def LinkedList():\n",
    "    l=[int(ele) for ele in  input().split()]\n",
    "    head=None\n",
    "    for i in range(len(l)):\n",
    "        new_node=Node(l[i])\n",
    "        if head is None:\n",
    "            head=new_node\n",
    "        else:\n",
    "            current=head\n",
    "            while current.next is not None:\n",
    "                current= current.next\n",
    "            current.next=new_node\n",
    "    return head\n",
    "head=LinkedList()\n",
    "\n",
    "def printl(head):\n",
    "    current =head\n",
    "    while current is not None:\n",
    "        print(current.data)\n",
    "        current=current.next\n",
    "printl(head)\n",
    "\n",
    "def lastLinked(head):\n",
    "    current=head\n",
    "    if current is None:\n",
    "        return None\n",
    "    else:\n",
    "\n",
    "        while current is not None:\n",
    "            last_node=current\n",
    "            current=current.next\n",
    "        \n",
    "    print(last_node.data,\"this is last element of linked list\")\n",
    "\n",
    "lastLinked(head)"
   ]
  },
  {
   "cell_type": "code",
   "execution_count": 58,
   "metadata": {},
   "outputs": [
    {
     "name": "stdout",
     "output_type": "stream",
     "text": [
      "8 this is second last element\n"
     ]
    }
   ],
   "source": [
    "def SecondLast(head):\n",
    "    current=head\n",
    "    if current is None or current.next is None :\n",
    "        # this is exceeption code\n",
    "        # try:\n",
    "\n",
    "        #     return head.data\n",
    "        # except:\n",
    "        #     print(\"Node is empty\")\n",
    "        return None\n",
    "    else:\n",
    "        while current.next.next is not None:\n",
    "            secondlast=current.next\n",
    "            current=current.next\n",
    "    print(secondlast.data,\"this is second last element\")\n",
    "        \n",
    "SecondLast(head)"
   ]
  },
  {
   "cell_type": "code",
   "execution_count": 59,
   "metadata": {},
   "outputs": [
    {
     "name": "stdout",
     "output_type": "stream",
     "text": [
      "9\n"
     ]
    }
   ],
   "source": [
    "def countNode(head):\n",
    "    current=head\n",
    "    counting =0\n",
    "    while current is not None:\n",
    "        current=current.next\n",
    "        counting=counting+1\n",
    "    print(counting)\n",
    "countNode(head)\n"
   ]
  },
  {
   "cell_type": "code",
   "execution_count": 78,
   "metadata": {},
   "outputs": [
    {
     "name": "stdout",
     "output_type": "stream",
     "text": [
      "44\n",
      "55\n",
      "55 this is last element of linked list\n",
      "12 this is addd last node\n",
      "<__main__.Node object at 0x0000028185DA71D0> this is last node value\n",
      "19 this is new node\n",
      "44\n",
      "55\n"
     ]
    }
   ],
   "source": [
    "# Storing last Node in a variable\n",
    "\n",
    "class Node:\n",
    "    def __init__(self,data):\n",
    "        self.data=data\n",
    "        self.next=None\n",
    "def LinkedList():\n",
    "    l=[int(ele) for ele in  input().split()]\n",
    "    head=None\n",
    "    for i in range(len(l)):\n",
    "        new_node=Node(l[i])\n",
    "        if head is None:\n",
    "            head=new_node\n",
    "        else:\n",
    "            current=head\n",
    "            while current.next is not None:\n",
    "                \n",
    "                current= current.next\n",
    "            current.next=new_node\n",
    "            last_node=current\n",
    "    return head,last_node\n",
    "last_node,head=LinkedList()\n",
    "\n",
    "def printl(head):\n",
    "    current =head\n",
    "    while current is not None:\n",
    "        print(current.data)\n",
    "        current=current.next\n",
    "printl(head)\n",
    "\n",
    "def lastLinked(head):\n",
    "    current=head\n",
    "    if current is None:\n",
    "        return None\n",
    "    else:\n",
    "\n",
    "        while current is not None:\n",
    "            last_node=current\n",
    "            current=current.next\n",
    "        \n",
    "    print(last_node.data,\"this is last element of linked list\")\n",
    "\n",
    "lastLinked(head)\n",
    "def add_new_node(head,last_node):\n",
    "    print(last_node,\"this is last node value\")\n",
    "    n=int(input(\"Enter new node\"))\n",
    "    new_node=Node(n)\n",
    "    last_node.next=new_node\n",
    "    last_node=new_node #this become new last node\n",
    "    print(new_node.data,\"this is new node\")\n",
    "    return head,last_node\n",
    "print(last_node.data,\"this is addd last node\")\n",
    "    \n",
    "head,last_node=add_new_node(head,last_node)\n",
    "printl(head)"
   ]
  }
 ],
 "metadata": {
  "kernelspec": {
   "display_name": "Python 3",
   "language": "python",
   "name": "python3"
  },
  "language_info": {
   "codemirror_mode": {
    "name": "ipython",
    "version": 3
   },
   "file_extension": ".py",
   "mimetype": "text/x-python",
   "name": "python",
   "nbconvert_exporter": "python",
   "pygments_lexer": "ipython3",
   "version": "3.12.0"
  }
 },
 "nbformat": 4,
 "nbformat_minor": 2
}
