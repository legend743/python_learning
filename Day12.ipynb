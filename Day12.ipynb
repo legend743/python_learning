{
 "cells": [
  {
   "cell_type": "code",
   "execution_count": 1,
   "metadata": {},
   "outputs": [
    {
     "name": "stdout",
     "output_type": "stream",
     "text": [
      "3169916811648\n",
      "3169916811648\n"
     ]
    }
   ],
   "source": [
    "# giving the refrence of another \n",
    "x=[2,5,4,6,3]\n",
    "y=x\n",
    "print(id(y))\n",
    "print(id(x))"
   ]
  },
  {
   "cell_type": "code",
   "execution_count": null,
   "metadata": {},
   "outputs": [],
   "source": [
    "# dimentions=input().slice()\n",
    "# m=int(dimentions[0])\n",
    "# n=int(dimentions[1])\n",
    "# l=[]\n",
    "# for i range(m):\n",
    "#     new_row=[] # don't worry about column\n"
   ]
  },
  {
   "cell_type": "code",
   "execution_count": 7,
   "metadata": {},
   "outputs": [
    {
     "ename": "ValueError",
     "evalue": "invalid literal for int() with base 10: ''",
     "output_type": "error",
     "traceback": [
      "\u001b[1;31m---------------------------------------------------------------------------\u001b[0m",
      "\u001b[1;31mValueError\u001b[0m                                Traceback (most recent call last)",
      "\u001b[1;32mc:\\Users\\legen\\Untitled Folder\\Day12.ipynb Cell 3\u001b[0m line \u001b[0;36m8\n\u001b[0;32m      <a href='vscode-notebook-cell:/c%3A/Users/legen/Untitled%20Folder/Day12.ipynb#W2sZmlsZQ%3D%3D?line=5'>6</a>\u001b[0m new_row\u001b[39m=\u001b[39m[]\n\u001b[0;32m      <a href='vscode-notebook-cell:/c%3A/Users/legen/Untitled%20Folder/Day12.ipynb#W2sZmlsZQ%3D%3D?line=6'>7</a>\u001b[0m \u001b[39mfor\u001b[39;00m j \u001b[39min\u001b[39;00m \u001b[39mrange\u001b[39m(n):\n\u001b[1;32m----> <a href='vscode-notebook-cell:/c%3A/Users/legen/Untitled%20Folder/Day12.ipynb#W2sZmlsZQ%3D%3D?line=7'>8</a>\u001b[0m     element\u001b[39m=\u001b[39m\u001b[39mint\u001b[39;49m(\u001b[39minput\u001b[39;49m())\n\u001b[0;32m      <a href='vscode-notebook-cell:/c%3A/Users/legen/Untitled%20Folder/Day12.ipynb#W2sZmlsZQ%3D%3D?line=8'>9</a>\u001b[0m     new_row\u001b[39m.\u001b[39mappend(element)\n\u001b[0;32m     <a href='vscode-notebook-cell:/c%3A/Users/legen/Untitled%20Folder/Day12.ipynb#W2sZmlsZQ%3D%3D?line=9'>10</a>\u001b[0m l\u001b[39m.\u001b[39mappend(new_row)\n",
      "\u001b[1;31mValueError\u001b[0m: invalid literal for int() with base 10: ''"
     ]
    }
   ],
   "source": [
    "dimentions=input().split()\n",
    "m=int(dimentions[0])\n",
    "n=int(dimentions[1])\n",
    "l=[] # ihave to make 2d array\n",
    "for i in range(m):\n",
    "    new_row=[]\n",
    "    for j in range(n):\n",
    "        element=int(input())\n",
    "        new_row.append(element)\n",
    "    l.append(new_row)\n",
    "print(l)"
   ]
  },
  {
   "cell_type": "code",
   "execution_count": null,
   "metadata": {},
   "outputs": [],
   "source": []
  }
 ],
 "metadata": {
  "kernelspec": {
   "display_name": "Python 3",
   "language": "python",
   "name": "python3"
  },
  "language_info": {
   "codemirror_mode": {
    "name": "ipython",
    "version": 3
   },
   "file_extension": ".py",
   "mimetype": "text/x-python",
   "name": "python",
   "nbconvert_exporter": "python",
   "pygments_lexer": "ipython3",
   "version": "3.12.0"
  }
 },
 "nbformat": 4,
 "nbformat_minor": 2
}
