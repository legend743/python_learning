{
 "cells": [
  {
   "cell_type": "code",
   "execution_count": 63,
   "metadata": {},
   "outputs": [
    {
     "name": "stdout",
     "output_type": "stream",
     "text": [
      "10\n",
      "20\n"
     ]
    }
   ],
   "source": [
    "class Node:\n",
    "    #this is usse for initializing node\n",
    "    def __init__(self,data):\n",
    "        self.data=data\n",
    "        self.next=None\n",
    "a=Node(10)\n",
    "b=Node(20)\n",
    "print(a.data)\n",
    "#a.next means put the reffrenct of b inside in a\n",
    "a.next=b\n",
    "print(a.next.data)\n",
    "\n"
   ]
  },
  {
   "cell_type": "code",
   "execution_count": null,
   "metadata": {},
   "outputs": [],
   "source": []
  },
  {
   "cell_type": "markdown",
   "metadata": {},
   "source": [
    "#now learn how to create a linked list and connect it with other node\n"
   ]
  },
  {
   "cell_type": "code",
   "execution_count": 64,
   "metadata": {},
   "outputs": [],
   "source": [
    "l=[int(ele) for ele in input().split()]\n",
    "head=None\n",
    "for i in range (len(l)):\n",
    "    new_node=Node(l[i])\n",
    "    if head  is None:\n",
    "        head=new_node\n",
    "    else:\n",
    "        current=head\n",
    "        while current.next is not None:\n",
    "            current=current.next\n",
    "        current.next=new_node\n",
    "\n",
    "        \n",
    "        "
   ]
  },
  {
   "cell_type": "code",
   "execution_count": 65,
   "metadata": {},
   "outputs": [
    {
     "name": "stdout",
     "output_type": "stream",
     "text": [
      "288\n",
      "383\n",
      "22\n",
      "3\n",
      "3\n",
      "38\n",
      "48\n"
     ]
    }
   ],
   "source": [
    "#write that function inside a  function so that we can take something from it\n",
    "def takin_input():\n",
    "    l=[int(ele) for ele in input().split()]\n",
    "    head=None\n",
    "    for i in range (len(l)):\n",
    "        \n",
    "        new_node=Node(l[i])\n",
    "        if head  is None:\n",
    "            head=new_node\n",
    "        else:\n",
    "            current=head\n",
    "            while current.next is not None:\n",
    "                current=current.next\n",
    "            current.next=new_node\n",
    "    return head\n",
    "\n",
    "head=takin_input()\n",
    "#this code is for printing all values \n",
    "def printll(head):    \n",
    "    current=head\n",
    "    while current is not None:\n",
    "        print(current.data)\n",
    "        current=current.next\n",
    "printll(head)"
   ]
  },
  {
   "cell_type": "code",
   "execution_count": 66,
   "metadata": {},
   "outputs": [
    {
     "ename": "UnboundLocalError",
     "evalue": "cannot access local variable 'last_node' where it is not associated with a value",
     "output_type": "error",
     "traceback": [
      "\u001b[1;31m---------------------------------------------------------------------------\u001b[0m",
      "\u001b[1;31mUnboundLocalError\u001b[0m                         Traceback (most recent call last)",
      "\u001b[1;32mc:\\Users\\legen\\Pyhton_Jupyter\\python_learning\\Linkedlist.ipynb Cell 6\u001b[0m line \u001b[0;36m2\n\u001b[0;32m     <a href='vscode-notebook-cell:/c%3A/Users/legen/Pyhton_Jupyter/python_learning/Linkedlist.ipynb#W4sZmlsZQ%3D%3D?line=17'>18</a>\u001b[0m             last_node\u001b[39m=\u001b[39mcurrent\u001b[39m.\u001b[39mnext\n\u001b[0;32m     <a href='vscode-notebook-cell:/c%3A/Users/legen/Pyhton_Jupyter/python_learning/Linkedlist.ipynb#W4sZmlsZQ%3D%3D?line=18'>19</a>\u001b[0m     \u001b[39mreturn\u001b[39;00m head,last_node\n\u001b[1;32m---> <a href='vscode-notebook-cell:/c%3A/Users/legen/Pyhton_Jupyter/python_learning/Linkedlist.ipynb#W4sZmlsZQ%3D%3D?line=20'>21</a>\u001b[0m head,last_node \u001b[39m=\u001b[39m takin_input()  \u001b[39m# Assign the returned linked list to the global variable 'head'\u001b[39;00m\n\u001b[0;32m     <a href='vscode-notebook-cell:/c%3A/Users/legen/Pyhton_Jupyter/python_learning/Linkedlist.ipynb#W4sZmlsZQ%3D%3D?line=21'>22</a>\u001b[0m \u001b[39mprint\u001b[39m(last_node\u001b[39m.\u001b[39mdata,\u001b[39m\"\u001b[39m\u001b[39m---------------------this is last nodes value--------------------------------------\u001b[39m\u001b[39m\"\u001b[39m)\n\u001b[0;32m     <a href='vscode-notebook-cell:/c%3A/Users/legen/Pyhton_Jupyter/python_learning/Linkedlist.ipynb#W4sZmlsZQ%3D%3D?line=22'>23</a>\u001b[0m \u001b[39mprint\u001b[39m(head\u001b[39m.\u001b[39mdata,\u001b[39m\"\u001b[39m\u001b[39mthis is head data\u001b[39m\u001b[39m\"\u001b[39m)\n",
      "\u001b[1;32mc:\\Users\\legen\\Pyhton_Jupyter\\python_learning\\Linkedlist.ipynb Cell 6\u001b[0m line \u001b[0;36m1\n\u001b[0;32m     <a href='vscode-notebook-cell:/c%3A/Users/legen/Pyhton_Jupyter/python_learning/Linkedlist.ipynb#W4sZmlsZQ%3D%3D?line=16'>17</a>\u001b[0m         current\u001b[39m.\u001b[39mnext \u001b[39m=\u001b[39m new_node\n\u001b[0;32m     <a href='vscode-notebook-cell:/c%3A/Users/legen/Pyhton_Jupyter/python_learning/Linkedlist.ipynb#W4sZmlsZQ%3D%3D?line=17'>18</a>\u001b[0m         last_node\u001b[39m=\u001b[39mcurrent\u001b[39m.\u001b[39mnext\n\u001b[1;32m---> <a href='vscode-notebook-cell:/c%3A/Users/legen/Pyhton_Jupyter/python_learning/Linkedlist.ipynb#W4sZmlsZQ%3D%3D?line=18'>19</a>\u001b[0m \u001b[39mreturn\u001b[39;00m head,last_node\n",
      "\u001b[1;31mUnboundLocalError\u001b[0m: cannot access local variable 'last_node' where it is not associated with a value"
     ]
    }
   ],
   "source": [
    "# class Node:\n",
    "#     def __init__(self, data):\n",
    "#         self.data = data\n",
    "#         self.next = None\n",
    "\n",
    "def takin_input():\n",
    "    l = [int(ele) for ele in input().split()]\n",
    "    head = None\n",
    "    for i in range(len(l)):\n",
    "        new_node = Node(l[i])\n",
    "        if head is None:\n",
    "            head = new_node\n",
    "        else:\n",
    "            current = head\n",
    "            while current.next is not None:\n",
    "                current = current.next\n",
    "            current.next = new_node\n",
    "            last_node=current.next\n",
    "    return head,last_node\n",
    "\n",
    "head,last_node = takin_input()  # Assign the returned linked list to the global variable 'head'\n",
    "print(last_node.data,\"---------------------this is last nodes value--------------------------------------\")\n",
    "print(head.data,\"this is head data\")\n",
    "def printll(head):\n",
    "    current = head\n",
    "    while current is not None:\n",
    "        print(current.data)\n",
    "        current = current.next\n",
    "\n",
    "printll(head)  # Now 'head' is accessible in the global scope and can be passed to the printll function\n",
    "print(\"----------------------------------------------------------------------------------------------------\")\n",
    "def add_new_node(last_node,head):\n",
    "    # print(last_node,\"last node\")\n",
    "    n=int(input(\"Enter new node value\"))\n",
    "    new_node=Node(n)\n",
    "    last_node.next=new_node\n",
    "    new_node=last_node\n",
    "    return head\n",
    "    \n",
    "\n",
    "\n",
    "\n",
    "n_head=add_new_node(last_node,head)\n",
    "printll(head)\n",
    "\n",
    "\n"
   ]
  },
  {
   "cell_type": "markdown",
   "metadata": {},
   "source": [
    "This is the code for swapping the linked list \n"
   ]
  },
  {
   "cell_type": "code",
   "execution_count": null,
   "metadata": {},
   "outputs": [
    {
     "ename": "KeyboardInterrupt",
     "evalue": "",
     "output_type": "error",
     "traceback": [
      "\u001b[1;31m---------------------------------------------------------------------------\u001b[0m",
      "\u001b[1;31mKeyboardInterrupt\u001b[0m                         Traceback (most recent call last)",
      "\u001b[1;32mc:\\Users\\legen\\Pyhton_Jupyter\\python_learning\\Linkedlist.ipynb Cell 8\u001b[0m line \u001b[0;36m2\n\u001b[0;32m     <a href='vscode-notebook-cell:/c%3A/Users/legen/Pyhton_Jupyter/python_learning/Linkedlist.ipynb#X10sZmlsZQ%3D%3D?line=18'>19</a>\u001b[0m     \u001b[39mreturn\u001b[39;00m head\n\u001b[0;32m     <a href='vscode-notebook-cell:/c%3A/Users/legen/Pyhton_Jupyter/python_learning/Linkedlist.ipynb#X10sZmlsZQ%3D%3D?line=20'>21</a>\u001b[0m new_head\u001b[39m=\u001b[39mtakin_input()\n\u001b[1;32m---> <a href='vscode-notebook-cell:/c%3A/Users/legen/Pyhton_Jupyter/python_learning/Linkedlist.ipynb#X10sZmlsZQ%3D%3D?line=21'>22</a>\u001b[0m new_head\u001b[39m=\u001b[39mswap(new_head)\n\u001b[0;32m     <a href='vscode-notebook-cell:/c%3A/Users/legen/Pyhton_Jupyter/python_learning/Linkedlist.ipynb#X10sZmlsZQ%3D%3D?line=22'>23</a>\u001b[0m printll(new_head)\n",
      "\u001b[1;32mc:\\Users\\legen\\Pyhton_Jupyter\\python_learning\\Linkedlist.ipynb Cell 8\u001b[0m line \u001b[0;36m1\n\u001b[0;32m     <a href='vscode-notebook-cell:/c%3A/Users/legen/Pyhton_Jupyter/python_learning/Linkedlist.ipynb#X10sZmlsZQ%3D%3D?line=13'>14</a>\u001b[0m \u001b[39mdef\u001b[39;00m \u001b[39mswap\u001b[39m(head):\n\u001b[0;32m     <a href='vscode-notebook-cell:/c%3A/Users/legen/Pyhton_Jupyter/python_learning/Linkedlist.ipynb#X10sZmlsZQ%3D%3D?line=14'>15</a>\u001b[0m     h\u001b[39m=\u001b[39mhead\n\u001b[1;32m---> <a href='vscode-notebook-cell:/c%3A/Users/legen/Pyhton_Jupyter/python_learning/Linkedlist.ipynb#X10sZmlsZQ%3D%3D?line=15'>16</a>\u001b[0m     \u001b[39mwhile\u001b[39;00m h \u001b[39mand\u001b[39;00m h\u001b[39m.\u001b[39mnext \u001b[39mis\u001b[39;00m \u001b[39mnot\u001b[39;00m \u001b[39mNone\u001b[39;00m:\n\u001b[0;32m     <a href='vscode-notebook-cell:/c%3A/Users/legen/Pyhton_Jupyter/python_learning/Linkedlist.ipynb#X10sZmlsZQ%3D%3D?line=16'>17</a>\u001b[0m         h,h\u001b[39m.\u001b[39mnext\u001b[39m=\u001b[39mh\u001b[39m.\u001b[39mnext,h\n\u001b[0;32m     <a href='vscode-notebook-cell:/c%3A/Users/legen/Pyhton_Jupyter/python_learning/Linkedlist.ipynb#X10sZmlsZQ%3D%3D?line=17'>18</a>\u001b[0m         h\u001b[39m=\u001b[39mh\u001b[39m.\u001b[39mnext\u001b[39m.\u001b[39mnext\n",
      "\u001b[1;31mKeyboardInterrupt\u001b[0m: "
     ]
    }
   ],
   "source": [
    "def takin_input():\n",
    "    l = [int(ele) for ele in input(\"Enter space-separated integers: \").split()]\n",
    "    head = None\n",
    "    for item in l:\n",
    "        new_node = Node(item)\n",
    "        if head is None:\n",
    "            head = new_node\n",
    "        else:\n",
    "            current = head\n",
    "            while current.next is not None:\n",
    "                current = current.next\n",
    "            current.next = new_node\n",
    "    return head\n",
    "def swap(head):\n",
    "    h=head\n",
    "    while h and h.next is not None:\n",
    "        h,h.next=h.next,h\n",
    "        h=h.next.next\n",
    "    return head\n",
    "\n",
    "new_head=takin_input()\n",
    "new_head=swap(new_head)\n",
    "printll(new_head)"
   ]
  },
  {
   "cell_type": "code",
   "execution_count": null,
   "metadata": {},
   "outputs": [
    {
     "ename": "KeyboardInterrupt",
     "evalue": "",
     "output_type": "error",
     "traceback": [
      "\u001b[1;31m---------------------------------------------------------------------------\u001b[0m",
      "\u001b[1;31mKeyboardInterrupt\u001b[0m                         Traceback (most recent call last)",
      "\u001b[1;32mc:\\Users\\legen\\Pyhton_Jupyter\\python_learning\\Linkedlist.ipynb Cell 9\u001b[0m line \u001b[0;36m2\n\u001b[0;32m     <a href='vscode-notebook-cell:/c%3A/Users/legen/Pyhton_Jupyter/python_learning/Linkedlist.ipynb#X12sZmlsZQ%3D%3D?line=24'>25</a>\u001b[0m     \u001b[39mreturn\u001b[39;00m head\n\u001b[0;32m     <a href='vscode-notebook-cell:/c%3A/Users/legen/Pyhton_Jupyter/python_learning/Linkedlist.ipynb#X12sZmlsZQ%3D%3D?line=26'>27</a>\u001b[0m new_head \u001b[39m=\u001b[39m takin_input()\n\u001b[1;32m---> <a href='vscode-notebook-cell:/c%3A/Users/legen/Pyhton_Jupyter/python_learning/Linkedlist.ipynb#X12sZmlsZQ%3D%3D?line=27'>28</a>\u001b[0m new_head \u001b[39m=\u001b[39m swap(new_head)\n\u001b[0;32m     <a href='vscode-notebook-cell:/c%3A/Users/legen/Pyhton_Jupyter/python_learning/Linkedlist.ipynb#X12sZmlsZQ%3D%3D?line=28'>29</a>\u001b[0m printll(new_head)\n",
      "\u001b[1;32mc:\\Users\\legen\\Pyhton_Jupyter\\python_learning\\Linkedlist.ipynb Cell 9\u001b[0m line \u001b[0;36m2\n\u001b[0;32m     <a href='vscode-notebook-cell:/c%3A/Users/legen/Pyhton_Jupyter/python_learning/Linkedlist.ipynb#X12sZmlsZQ%3D%3D?line=19'>20</a>\u001b[0m \u001b[39mdef\u001b[39;00m \u001b[39mswap\u001b[39m(head):\n\u001b[0;32m     <a href='vscode-notebook-cell:/c%3A/Users/legen/Pyhton_Jupyter/python_learning/Linkedlist.ipynb#X12sZmlsZQ%3D%3D?line=20'>21</a>\u001b[0m     h \u001b[39m=\u001b[39m head\n\u001b[1;32m---> <a href='vscode-notebook-cell:/c%3A/Users/legen/Pyhton_Jupyter/python_learning/Linkedlist.ipynb#X12sZmlsZQ%3D%3D?line=21'>22</a>\u001b[0m     \u001b[39mwhile\u001b[39;00m h \u001b[39mand\u001b[39;00m h\u001b[39m.\u001b[39mnext \u001b[39mis\u001b[39;00m \u001b[39mnot\u001b[39;00m \u001b[39mNone\u001b[39;00m:\n\u001b[0;32m     <a href='vscode-notebook-cell:/c%3A/Users/legen/Pyhton_Jupyter/python_learning/Linkedlist.ipynb#X12sZmlsZQ%3D%3D?line=22'>23</a>\u001b[0m         h, h\u001b[39m.\u001b[39mnext \u001b[39m=\u001b[39m h\u001b[39m.\u001b[39mnext, h\n\u001b[0;32m     <a href='vscode-notebook-cell:/c%3A/Users/legen/Pyhton_Jupyter/python_learning/Linkedlist.ipynb#X12sZmlsZQ%3D%3D?line=23'>24</a>\u001b[0m         h \u001b[39m=\u001b[39m h\u001b[39m.\u001b[39mnext\u001b[39m.\u001b[39mnext\n",
      "\u001b[1;31mKeyboardInterrupt\u001b[0m: "
     ]
    }
   ],
   "source": [
    "class Node:\n",
    "    def __init__(self, data):\n",
    "        self.data = data\n",
    "        self.next = None\n",
    "\n",
    "def takin_input():\n",
    "    l = [int(ele) for ele in input(\"Enter space-separated integers: \").split()]\n",
    "    head = None\n",
    "    for item in l:\n",
    "        new_node = Node(item)\n",
    "        if head is None:\n",
    "            head = new_node\n",
    "        else:\n",
    "            current = head\n",
    "            while current.next is not None:\n",
    "                current = current.next\n",
    "            current.next = new_node\n",
    "    return head\n",
    "\n",
    "#this will lead to infinte looop because pointers gets confused so the correct version of this code is written below\n",
    "# def swap(head):\n",
    "#     if head is none or head.next is none:\n",
    "#         return head\n",
    "#     new_head=head.next\n",
    "#     prev=None\n",
    "    \n",
    "#     while head and head.next is not None:\n",
    "#         h, h.next = h.next, h\n",
    "#         h = h.next.next\n",
    "#     return head\n",
    "\n",
    "# new_head = takin_input()\n",
    "# new_head = swap(new_head)\n",
    "# printll(new_head)\n",
    "\n"
   ]
  },
  {
   "cell_type": "code",
   "execution_count": null,
   "metadata": {},
   "outputs": [
    {
     "name": "stdout",
     "output_type": "stream",
     "text": [
      "77\n",
      "98\n",
      "729\n",
      "66\n",
      "99\n",
      "928\n",
      "2782\n"
     ]
    }
   ],
   "source": [
    "def swap(head):\n",
    "    if head is None or head.next is None:\n",
    "        return head\n",
    "    \n",
    "    new_head = head.next\n",
    "    prev = None\n",
    "    \n",
    "    while head and head.next:\n",
    "        temp = head.next\n",
    "        head.next = temp.next\n",
    "        temp.next = head\n",
    "        \n",
    "        if prev:\n",
    "            prev.next = temp\n",
    "        \n",
    "        prev = head\n",
    "        head = head.next\n",
    "    \n",
    "    return new_head\n",
    "new_head = takin_input()\n",
    "new_head = swap(new_head)\n",
    "printll(new_head)\n",
    "\n"
   ]
  },
  {
   "cell_type": "markdown",
   "metadata": {},
   "source": [
    "LinkedList Last Lecture "
   ]
  },
  {
   "cell_type": "code",
   "execution_count": null,
   "metadata": {},
   "outputs": [
    {
     "name": "stdout",
     "output_type": "stream",
     "text": [
      "98\n"
     ]
    }
   ],
   "source": [
    "def reverseNode(head):\n",
    "    prev=None\n",
    "    current=head\n",
    "    while current:\n",
    "        new_node=current.next\n",
    "        current.next=prev\n",
    "        prev=current\n",
    "        current=new_node\n",
    "    return prev\n",
    "\n",
    "\n",
    "head=reverseNode(head)\n",
    "printll(head)"
   ]
  },
  {
   "cell_type": "markdown",
   "metadata": {},
   "source": [
    "Insert at last and begining\n"
   ]
  },
  {
   "cell_type": "code",
   "execution_count": null,
   "metadata": {},
   "outputs": [],
   "source": [
    "def InsertAtLast(head,x):\n",
    "    new_node=Node(x)\n",
    "    current=head\n",
    "    if current is None:\n",
    "        current=new_head\n",
    "    return current\n",
    "    while current.next is not None:\n",
    "        current=current.next\n",
    "    current.next=new_node\n",
    "    return head\n",
    "    "
   ]
  },
  {
   "cell_type": "markdown",
   "metadata": {},
   "source": [
    "Insert at begining\n"
   ]
  },
  {
   "cell_type": "code",
   "execution_count": null,
   "metadata": {},
   "outputs": [],
   "source": [
    "\n",
    "def InsertAtBegining(head,x):\n",
    "    new_node=Node(x)\n",
    "    new_node.next=head\n",
    "    return new_n\n",
    "    \n"
   ]
  },
  {
   "cell_type": "markdown",
   "metadata": {},
   "source": [
    "this is deletion from the begining\n"
   ]
  },
  {
   "cell_type": "code",
   "execution_count": 70,
   "metadata": {},
   "outputs": [
    {
     "name": "stdout",
     "output_type": "stream",
     "text": [
      "22\n",
      "3\n",
      "3\n"
     ]
    }
   ],
   "source": [
    "def deleteAtbegining(head):\n",
    "    if head is None:\n",
    "        return None\n",
    "    head=head.next\n",
    "    return head\n",
    "head=deleteAtbegining(head)\n",
    "printll(head)\n"
   ]
  },
  {
   "cell_type": "markdown",
   "metadata": {},
   "source": [
    "Delete from the last of the linked list\n"
   ]
  },
  {
   "cell_type": "code",
   "execution_count": 69,
   "metadata": {},
   "outputs": [
    {
     "name": "stdout",
     "output_type": "stream",
     "text": [
      "383\n",
      "22\n",
      "3\n",
      "3\n"
     ]
    }
   ],
   "source": [
    "def DeleteFromLast(head):\n",
    "    if head is None:\n",
    "        return None\n",
    "    current=head\n",
    "    while current.next.next is not None:\n",
    "        current=current.next\n",
    "    current.next=None\n",
    "    return head\n",
    "\n",
    "head=DeleteFromLast(head)\n",
    "printll(head)"
   ]
  }
 ],
 "metadata": {
  "kernelspec": {
   "display_name": "Python 3",
   "language": "python",
   "name": "python3"
  },
  "language_info": {
   "codemirror_mode": {
    "name": "ipython",
    "version": 3
   },
   "file_extension": ".py",
   "mimetype": "text/x-python",
   "name": "python",
   "nbconvert_exporter": "python",
   "pygments_lexer": "ipython3",
   "version": "3.12.0"
  }
 },
 "nbformat": 4,
 "nbformat_minor": 2
}
