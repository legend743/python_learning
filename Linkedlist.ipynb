{
 "cells": [
  {
   "cell_type": "code",
   "execution_count": 18,
   "metadata": {},
   "outputs": [
    {
     "ename": "AttributeError",
     "evalue": "'int' object has no attribute 'data'",
     "output_type": "error",
     "traceback": [
      "\u001b[1;31m---------------------------------------------------------------------------\u001b[0m",
      "\u001b[1;31mAttributeError\u001b[0m                            Traceback (most recent call last)",
      "\u001b[1;32mc:\\Users\\legen\\Pyhton_Jupyter\\python_learning\\Linkedlist.ipynb Cell 1\u001b[0m line \u001b[0;36m8\n\u001b[0;32m      <a href='vscode-notebook-cell:/c%3A/Users/legen/Pyhton_Jupyter/python_learning/Linkedlist.ipynb#W0sZmlsZQ%3D%3D?line=5'>6</a>\u001b[0m a\u001b[39m=\u001b[39mNode(\u001b[39m10\u001b[39m)\n\u001b[0;32m      <a href='vscode-notebook-cell:/c%3A/Users/legen/Pyhton_Jupyter/python_learning/Linkedlist.ipynb#W0sZmlsZQ%3D%3D?line=6'>7</a>\u001b[0m b\u001b[39m=\u001b[39mNode(\u001b[39m20\u001b[39m)\n\u001b[1;32m----> <a href='vscode-notebook-cell:/c%3A/Users/legen/Pyhton_Jupyter/python_learning/Linkedlist.ipynb#W0sZmlsZQ%3D%3D?line=7'>8</a>\u001b[0m \u001b[39mprint\u001b[39;49m(a\u001b[39m.\u001b[39;49mdata)\n\u001b[0;32m      <a href='vscode-notebook-cell:/c%3A/Users/legen/Pyhton_Jupyter/python_learning/Linkedlist.ipynb#W0sZmlsZQ%3D%3D?line=8'>9</a>\u001b[0m \u001b[39m#a.next means put the reffrenct of b inside in a\u001b[39;00m\n\u001b[0;32m     <a href='vscode-notebook-cell:/c%3A/Users/legen/Pyhton_Jupyter/python_learning/Linkedlist.ipynb#W0sZmlsZQ%3D%3D?line=9'>10</a>\u001b[0m a\u001b[39m.\u001b[39mnext\u001b[39m=\u001b[39mb\n",
      "\u001b[1;32mc:\\Users\\legen\\Pyhton_Jupyter\\python_learning\\Linkedlist.ipynb Cell 1\u001b[0m line \u001b[0;36m2\n\u001b[0;32m     <a href='vscode-notebook-cell:/c%3A/Users/legen/Pyhton_Jupyter/python_learning/Linkedlist.ipynb#W0sZmlsZQ%3D%3D?line=18'>19</a>\u001b[0m current\u001b[39m=\u001b[39mhead\n\u001b[0;32m     <a href='vscode-notebook-cell:/c%3A/Users/legen/Pyhton_Jupyter/python_learning/Linkedlist.ipynb#W0sZmlsZQ%3D%3D?line=19'>20</a>\u001b[0m \u001b[39mwhile\u001b[39;00m current \u001b[39mis\u001b[39;00m \u001b[39mnot\u001b[39;00m \u001b[39mNone\u001b[39;00m:\n\u001b[1;32m---> <a href='vscode-notebook-cell:/c%3A/Users/legen/Pyhton_Jupyter/python_learning/Linkedlist.ipynb#W0sZmlsZQ%3D%3D?line=20'>21</a>\u001b[0m     \u001b[39mprint\u001b[39m(current\u001b[39m.\u001b[39;49mdata)\n\u001b[0;32m     <a href='vscode-notebook-cell:/c%3A/Users/legen/Pyhton_Jupyter/python_learning/Linkedlist.ipynb#W0sZmlsZQ%3D%3D?line=21'>22</a>\u001b[0m     current\u001b[39m=\u001b[39mcurrent\u001b[39m.\u001b[39mnext\n",
      "\u001b[1;31mAttributeError\u001b[0m: 'int' object has no attribute 'data'"
     ]
    }
   ],
   "source": [
    "class Node:\n",
    "    #this is usse for initializing node\n",
    "    def __init__(self,data):\n",
    "        self.data=data\n",
    "        self.next=None\n",
    "a=Node(10)\n",
    "b=Node(20)\n",
    "print(a.data)\n",
    "#a.next means put the reffrenct of b inside in a\n",
    "a.next=b\n",
    "print(a.next.data)\n",
    "\n"
   ]
  },
  {
   "cell_type": "markdown",
   "metadata": {},
   "source": [
    "#now learn how to create a linked list and connect it with other node\n"
   ]
  },
  {
   "cell_type": "code",
   "execution_count": null,
   "metadata": {},
   "outputs": [],
   "source": [
    "l=[int(ele) for ele in input().split()]\n",
    "head=None\n",
    "for i in range (len(l)):\n",
    "    new_node=Node(l[i])\n",
    "    if head  is None:\n",
    "        head=new_node\n",
    "    else:\n",
    "        current=head\n",
    "        while current.next is not None:\n",
    "            current=current.next\n",
    "        current.next=new_node\n",
    "\n",
    "        \n",
    "        "
   ]
  },
  {
   "cell_type": "code",
   "execution_count": 19,
   "metadata": {},
   "outputs": [
    {
     "ename": "AttributeError",
     "evalue": "'int' object has no attribute 'data'",
     "output_type": "error",
     "traceback": [
      "\u001b[1;31m---------------------------------------------------------------------------\u001b[0m",
      "\u001b[1;31mAttributeError\u001b[0m                            Traceback (most recent call last)",
      "\u001b[1;32mc:\\Users\\legen\\Pyhton_Jupyter\\python_learning\\Linkedlist.ipynb Cell 4\u001b[0m line \u001b[0;36m2\n\u001b[0;32m     <a href='vscode-notebook-cell:/c%3A/Users/legen/Pyhton_Jupyter/python_learning/Linkedlist.ipynb#W5sZmlsZQ%3D%3D?line=20'>21</a>\u001b[0m         \u001b[39mprint\u001b[39m(current\u001b[39m.\u001b[39mdata)\n\u001b[0;32m     <a href='vscode-notebook-cell:/c%3A/Users/legen/Pyhton_Jupyter/python_learning/Linkedlist.ipynb#W5sZmlsZQ%3D%3D?line=21'>22</a>\u001b[0m         current\u001b[39m=\u001b[39mcurrent\u001b[39m.\u001b[39mnext\n\u001b[1;32m---> <a href='vscode-notebook-cell:/c%3A/Users/legen/Pyhton_Jupyter/python_learning/Linkedlist.ipynb#W5sZmlsZQ%3D%3D?line=22'>23</a>\u001b[0m printll(head)\n",
      "\u001b[1;32mc:\\Users\\legen\\Pyhton_Jupyter\\python_learning\\Linkedlist.ipynb Cell 4\u001b[0m line \u001b[0;36m2\n\u001b[0;32m     <a href='vscode-notebook-cell:/c%3A/Users/legen/Pyhton_Jupyter/python_learning/Linkedlist.ipynb#W5sZmlsZQ%3D%3D?line=18'>19</a>\u001b[0m current\u001b[39m=\u001b[39mhead\n\u001b[0;32m     <a href='vscode-notebook-cell:/c%3A/Users/legen/Pyhton_Jupyter/python_learning/Linkedlist.ipynb#W5sZmlsZQ%3D%3D?line=19'>20</a>\u001b[0m \u001b[39mwhile\u001b[39;00m current \u001b[39mis\u001b[39;00m \u001b[39mnot\u001b[39;00m \u001b[39mNone\u001b[39;00m:\n\u001b[1;32m---> <a href='vscode-notebook-cell:/c%3A/Users/legen/Pyhton_Jupyter/python_learning/Linkedlist.ipynb#W5sZmlsZQ%3D%3D?line=20'>21</a>\u001b[0m     \u001b[39mprint\u001b[39;49m(current\u001b[39m.\u001b[39;49mdata)\n\u001b[0;32m     <a href='vscode-notebook-cell:/c%3A/Users/legen/Pyhton_Jupyter/python_learning/Linkedlist.ipynb#W5sZmlsZQ%3D%3D?line=21'>22</a>\u001b[0m     current\u001b[39m=\u001b[39mcurrent\u001b[39m.\u001b[39mnext\n",
      "\u001b[1;32mc:\\Users\\legen\\Pyhton_Jupyter\\python_learning\\Linkedlist.ipynb Cell 4\u001b[0m line \u001b[0;36m2\n\u001b[0;32m     <a href='vscode-notebook-cell:/c%3A/Users/legen/Pyhton_Jupyter/python_learning/Linkedlist.ipynb#W5sZmlsZQ%3D%3D?line=18'>19</a>\u001b[0m current\u001b[39m=\u001b[39mhead\n\u001b[0;32m     <a href='vscode-notebook-cell:/c%3A/Users/legen/Pyhton_Jupyter/python_learning/Linkedlist.ipynb#W5sZmlsZQ%3D%3D?line=19'>20</a>\u001b[0m \u001b[39mwhile\u001b[39;00m current \u001b[39mis\u001b[39;00m \u001b[39mnot\u001b[39;00m \u001b[39mNone\u001b[39;00m:\n\u001b[1;32m---> <a href='vscode-notebook-cell:/c%3A/Users/legen/Pyhton_Jupyter/python_learning/Linkedlist.ipynb#W5sZmlsZQ%3D%3D?line=20'>21</a>\u001b[0m     \u001b[39mprint\u001b[39m(current\u001b[39m.\u001b[39;49mdata)\n\u001b[0;32m     <a href='vscode-notebook-cell:/c%3A/Users/legen/Pyhton_Jupyter/python_learning/Linkedlist.ipynb#W5sZmlsZQ%3D%3D?line=21'>22</a>\u001b[0m     current\u001b[39m=\u001b[39mcurrent\u001b[39m.\u001b[39mnext\n",
      "\u001b[1;31mAttributeError\u001b[0m: 'int' object has no attribute 'data'"
     ]
    }
   ],
   "source": [
    "#write that function inside a  function so that we can take something from it\n",
    "def takin_input():\n",
    "    l=[int(ele) for ele in input().split()]\n",
    "    head=None\n",
    "    for i in range (len(l)):\n",
    "        \n",
    "        new_node=Node(l[i])\n",
    "        if head  is None:\n",
    "            head=new_node\n",
    "        else:\n",
    "            current=head\n",
    "            while current.next is not None:\n",
    "                current=current.next\n",
    "            current.next=new_node\n",
    "    return head\n",
    "\n",
    "head=takin_input()\n",
    "def printll(head):    \n",
    "    current=head\n",
    "    while current is not None:\n",
    "        print(current.data)\n",
    "        current=current.next\n",
    "printll(head)"
   ]
  },
  {
   "cell_type": "code",
   "execution_count": 21,
   "metadata": {},
   "outputs": [
    {
     "ename": "AttributeError",
     "evalue": "'int' object has no attribute 'data'",
     "output_type": "error",
     "traceback": [
      "\u001b[1;31m---------------------------------------------------------------------------\u001b[0m",
      "\u001b[1;31mAttributeError\u001b[0m                            Traceback (most recent call last)",
      "\u001b[1;32mc:\\Users\\legen\\Pyhton_Jupyter\\python_learning\\Linkedlist.ipynb Cell 5\u001b[0m line \u001b[0;36m2\n\u001b[0;32m     <a href='vscode-notebook-cell:/c%3A/Users/legen/Pyhton_Jupyter/python_learning/Linkedlist.ipynb#W6sZmlsZQ%3D%3D?line=17'>18</a>\u001b[0m     \u001b[39mreturn\u001b[39;00m head\n\u001b[0;32m     <a href='vscode-notebook-cell:/c%3A/Users/legen/Pyhton_Jupyter/python_learning/Linkedlist.ipynb#W6sZmlsZQ%3D%3D?line=19'>20</a>\u001b[0m head \u001b[39m=\u001b[39m takin_input()  \u001b[39m# Assign the returned linked list to the global variable 'head'\u001b[39;00m\n\u001b[1;32m---> <a href='vscode-notebook-cell:/c%3A/Users/legen/Pyhton_Jupyter/python_learning/Linkedlist.ipynb#W6sZmlsZQ%3D%3D?line=20'>21</a>\u001b[0m \u001b[39mprint\u001b[39;49m(head\u001b[39m.\u001b[39;49mdata)\n\u001b[0;32m     <a href='vscode-notebook-cell:/c%3A/Users/legen/Pyhton_Jupyter/python_learning/Linkedlist.ipynb#W6sZmlsZQ%3D%3D?line=21'>22</a>\u001b[0m \u001b[39m# def printll(head):\u001b[39;00m\n\u001b[0;32m     <a href='vscode-notebook-cell:/c%3A/Users/legen/Pyhton_Jupyter/python_learning/Linkedlist.ipynb#W6sZmlsZQ%3D%3D?line=22'>23</a>\u001b[0m \u001b[39m#     current = head\u001b[39;00m\n\u001b[0;32m     <a href='vscode-notebook-cell:/c%3A/Users/legen/Pyhton_Jupyter/python_learning/Linkedlist.ipynb#W6sZmlsZQ%3D%3D?line=23'>24</a>\u001b[0m \u001b[39m#     while current is not None:\u001b[39;00m\n\u001b[1;32m   (...)\u001b[0m\n\u001b[0;32m     <a href='vscode-notebook-cell:/c%3A/Users/legen/Pyhton_Jupyter/python_learning/Linkedlist.ipynb#W6sZmlsZQ%3D%3D?line=26'>27</a>\u001b[0m \n\u001b[0;32m     <a href='vscode-notebook-cell:/c%3A/Users/legen/Pyhton_Jupyter/python_learning/Linkedlist.ipynb#W6sZmlsZQ%3D%3D?line=27'>28</a>\u001b[0m \u001b[39m# printll(head)  # Now 'head' is accessible in the global scope and can be passed to the printll function\u001b[39;00m\n",
      "\u001b[1;32mc:\\Users\\legen\\Pyhton_Jupyter\\python_learning\\Linkedlist.ipynb Cell 5\u001b[0m line \u001b[0;36m2\n\u001b[0;32m     <a href='vscode-notebook-cell:/c%3A/Users/legen/Pyhton_Jupyter/python_learning/Linkedlist.ipynb#W6sZmlsZQ%3D%3D?line=18'>19</a>\u001b[0m current\u001b[39m=\u001b[39mhead\n\u001b[0;32m     <a href='vscode-notebook-cell:/c%3A/Users/legen/Pyhton_Jupyter/python_learning/Linkedlist.ipynb#W6sZmlsZQ%3D%3D?line=19'>20</a>\u001b[0m \u001b[39mwhile\u001b[39;00m current \u001b[39mis\u001b[39;00m \u001b[39mnot\u001b[39;00m \u001b[39mNone\u001b[39;00m:\n\u001b[1;32m---> <a href='vscode-notebook-cell:/c%3A/Users/legen/Pyhton_Jupyter/python_learning/Linkedlist.ipynb#W6sZmlsZQ%3D%3D?line=20'>21</a>\u001b[0m     \u001b[39mprint\u001b[39m(current\u001b[39m.\u001b[39;49mdata)\n\u001b[0;32m     <a href='vscode-notebook-cell:/c%3A/Users/legen/Pyhton_Jupyter/python_learning/Linkedlist.ipynb#W6sZmlsZQ%3D%3D?line=21'>22</a>\u001b[0m     current\u001b[39m=\u001b[39mcurrent\u001b[39m.\u001b[39mnext\n",
      "\u001b[1;31mAttributeError\u001b[0m: 'int' object has no attribute 'data'"
     ]
    }
   ],
   "source": [
    "class Node:\n",
    "    def __init__(self, data):\n",
    "        self.data = data\n",
    "        self.next = None\n",
    "\n",
    "def takin_input():\n",
    "    l = [int(ele) for ele in input().split()]\n",
    "    head = None\n",
    "    for i in range(len(l)):\n",
    "        new_node = Node(l[i])\n",
    "        if head is None:\n",
    "            head = new_node\n",
    "        else:\n",
    "            current = head\n",
    "            while current.next is not None:\n",
    "                current = current.next\n",
    "            current.next = new_node\n",
    "    return head\n",
    "\n",
    "head = takin_input()  # Assign the returned linked list to the global variable 'head'\n",
    "print(head.data)\n",
    "# def printll(head):\n",
    "#     current = head\n",
    "#     while current is not None:\n",
    "#         print(current.data)\n",
    "#         current = current.next\n",
    "\n",
    "# printll(head)  # Now 'head' is accessible in the global scope and can be passed to the printll function\n"
   ]
  }
 ],
 "metadata": {
  "kernelspec": {
   "display_name": "Python 3",
   "language": "python",
   "name": "python3"
  },
  "language_info": {
   "codemirror_mode": {
    "name": "ipython",
    "version": 3
   },
   "file_extension": ".py",
   "mimetype": "text/x-python",
   "name": "python",
   "nbconvert_exporter": "python",
   "pygments_lexer": "ipython3",
   "version": "3.12.0"
  }
 },
 "nbformat": 4,
 "nbformat_minor": 2
}
