{
 "cells": [
  {
   "cell_type": "code",
   "execution_count": 16,
   "metadata": {},
   "outputs": [
    {
     "name": "stdout",
     "output_type": "stream",
     "text": [
      "11 12 13 14 \n",
      "21 22 23 24 \n",
      "31 32 33 34 \n"
     ]
    }
   ],
   "source": [
    "for i in range(1,4):\n",
    "    for j in range(1,5):\n",
    "        print(i,j,sep='',end=' ')\n",
    "    print()"
   ]
  },
  {
   "cell_type": "code",
   "execution_count": 38,
   "metadata": {},
   "outputs": [
    {
     "name": "stdout",
     "output_type": "stream",
     "text": [
      "1\n",
      "12\n",
      "123\n",
      "1234\n",
      "12345\n"
     ]
    }
   ],
   "source": [
    "for row in range(1,6):\n",
    "    for col in range (1,row+1):\n",
    "       print(col,sep='',end='')\n",
    "    print()"
   ]
  },
  {
   "cell_type": "code",
   "execution_count": 32,
   "metadata": {},
   "outputs": [
    {
     "name": "stdout",
     "output_type": "stream",
     "text": [
      "   *\n",
      "  ***\n",
      " *****\n",
      "*******\n"
     ]
    }
   ],
   "source": [
    "for row in range(1,5):\n",
    "        print(' '*(4-row),end='')\n",
    "        print('*'*(2*row-1))"
   ]
  },
  {
   "cell_type": "code",
   "execution_count": 40,
   "metadata": {},
   "outputs": [
    {
     "name": "stdout",
     "output_type": "stream",
     "text": [
      "                     *\n",
      "                    ***\n",
      "                   *****\n",
      "                  *******\n",
      "                 *********\n",
      "                ***********\n",
      "               *************\n",
      "              ***************\n",
      "             *****************\n",
      "            *******************\n",
      "           *********************\n",
      "          ***********************\n",
      "         *************************\n",
      "        ***************************\n",
      "       *****************************\n",
      "      *******************************\n",
      "     *********************************\n",
      "    ***********************************\n",
      "   *************************************\n",
      "  ***************************************\n",
      " *****************************************\n",
      "*******************************************\n"
     ]
    }
   ],
   "source": [
    "a=int(input(\"Enter the number of row\"))\n",
    "for row in range(1,a+1):\n",
    "        print(' '*(a-row),end='')\n",
    "        print('*'*(2*row-1))"
   ]
  }
 ],
 "metadata": {
  "kernelspec": {
   "display_name": "Python 3",
   "language": "python",
   "name": "python3"
  },
  "language_info": {
   "name": "python",
   "version": "3.12.0"
  }
 },
 "nbformat": 4,
 "nbformat_minor": 2
}
