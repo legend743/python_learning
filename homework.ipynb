{
 "cells": [
  {
   "cell_type": "code",
   "execution_count": 3,
   "metadata": {},
   "outputs": [
    {
     "name": "stdout",
     "output_type": "stream",
     "text": [
      "1.45\n"
     ]
    }
   ],
   "source": [
    "import math\n",
    "def sum_of_factorial(n):\n",
    "    sum=0\n",
    "    for i in range(1,n+1):\n",
    "        fact_value=math.factorial(i)\n",
    "        fact_value_plus_one=math.factorial(i+1)\n",
    "        term= fact_value/fact_value_plus_one\n",
    "        sum=sum+term\n",
    "    return sum\n",
    "# now take the input from the user\n",
    "m=int(input(\"Enter the values\"))\n",
    "series_sum=sum_of_factorial(m)\n",
    "print(series_sum)"
   ]
  },
  {
   "cell_type": "code",
   "execution_count": 9,
   "metadata": {},
   "outputs": [
    {
     "ename": "TypeError",
     "evalue": "int() argument must be a string, a bytes-like object or a real number, not 'list'",
     "output_type": "error",
     "traceback": [
      "\u001b[1;31m---------------------------------------------------------------------------\u001b[0m",
      "\u001b[1;31mTypeError\u001b[0m                                 Traceback (most recent call last)",
      "\u001b[1;32mc:\\Users\\legen\\Untitled Folder\\homework.ipynb Cell 2\u001b[0m line \u001b[0;36m4\n\u001b[0;32m      <a href='vscode-notebook-cell:/c%3A/Users/legen/Untitled%20Folder/homework.ipynb#W1sZmlsZQ%3D%3D?line=0'>1</a>\u001b[0m l\u001b[39m=\u001b[39m[]\n\u001b[0;32m      <a href='vscode-notebook-cell:/c%3A/Users/legen/Untitled%20Folder/homework.ipynb#W1sZmlsZQ%3D%3D?line=1'>2</a>\u001b[0m n\u001b[39m=\u001b[39m\u001b[39minput\u001b[39m(\u001b[39m\"\u001b[39m\u001b[39menter the number \u001b[39m\u001b[39m\"\u001b[39m)\n\u001b[1;32m----> <a href='vscode-notebook-cell:/c%3A/Users/legen/Untitled%20Folder/homework.ipynb#W1sZmlsZQ%3D%3D?line=3'>4</a>\u001b[0m input_string\u001b[39m=\u001b[39m\u001b[39mint\u001b[39;49m(n\u001b[39m.\u001b[39;49msplit())\n\u001b[0;32m      <a href='vscode-notebook-cell:/c%3A/Users/legen/Untitled%20Folder/homework.ipynb#W1sZmlsZQ%3D%3D?line=4'>5</a>\u001b[0m l\u001b[39m.\u001b[39mextend(n)\n\u001b[0;32m      <a href='vscode-notebook-cell:/c%3A/Users/legen/Untitled%20Folder/homework.ipynb#W1sZmlsZQ%3D%3D?line=5'>6</a>\u001b[0m l\u001b[39m.\u001b[39msort()\n",
      "\u001b[1;31mTypeError\u001b[0m: int() argument must be a string, a bytes-like object or a real number, not 'list'"
     ]
    }
   ],
   "source": [
    "l=[]\n",
    "n=input(\"enter the number \")\n",
    "\n",
    "input_string=n.split()\n",
    "l.extend(n)\n",
    "l.sort()\n",
    "\n",
    "print(l)"
   ]
  },
  {
   "cell_type": "code",
   "execution_count": 30,
   "metadata": {},
   "outputs": [
    {
     "name": "stdout",
     "output_type": "stream",
     "text": [
      "10\n",
      "this is my l wali string 2\n",
      "continue\n",
      "this is my l wali string 3\n",
      "continue\n",
      "this is my l wali string 4\n",
      "continue\n",
      "this is my l wali string 5\n",
      "continue\n",
      "2\n",
      "this is my l wali string 2\n",
      "continue\n",
      "this is my l wali string 3\n",
      "continue\n",
      "this is my l wali string 4\n",
      "continue\n",
      "this is my l wali string 5\n",
      "continue\n",
      "3\n",
      "this is my l wali string 2\n",
      "continue\n",
      "this is my l wali string 3\n",
      "continue\n",
      "this is my l wali string 4\n",
      "continue\n",
      "this is my l wali string 5\n",
      "continue\n",
      "4\n",
      "this is my l wali string 2\n",
      "continue\n",
      "this is my l wali string 3\n",
      "continue\n",
      "this is my l wali string 4\n",
      "continue\n",
      "this is my l wali string 5\n",
      "we got the string\n",
      "5\n",
      "this is my l wali string 2\n",
      "continue\n",
      "this is my l wali string 3\n",
      "continue\n",
      "this is my l wali string 4\n",
      "we got the string\n",
      "this is my l wali string 5\n",
      "continue\n"
     ]
    }
   ],
   "source": [
    "l=[10,2,3,4,5,6]\n",
    "for i in range(len(l)-1):\n",
    "    print(l[i])\n",
    " \n",
    "    for j in range (1,len(l)-1):\n",
    "        print(\"this is my l wali string\",l[j])\n",
    "        if(l[i]+l[j]==9):\n",
    "            print(\"we got the string\")\n",
    "        else:\n",
    "            print(\"continue\")\n"
   ]
  },
  {
   "cell_type": "code",
   "execution_count": 7,
   "metadata": {},
   "outputs": [
    {
     "ename": "TypeError",
     "evalue": "'list' object cannot be interpreted as an integer",
     "output_type": "error",
     "traceback": [
      "\u001b[1;31m---------------------------------------------------------------------------\u001b[0m",
      "\u001b[1;31mTypeError\u001b[0m                                 Traceback (most recent call last)",
      "\u001b[1;32mc:\\Users\\legen\\Untitled Folder\\homework.ipynb Cell 3\u001b[0m line \u001b[0;36m4\n\u001b[0;32m      <a href='vscode-notebook-cell:/c%3A/Users/legen/Untitled%20Folder/homework.ipynb#W2sZmlsZQ%3D%3D?line=0'>1</a>\u001b[0m \u001b[39m# n=(input(\"enter the string\"))\u001b[39;00m\n\u001b[0;32m      <a href='vscode-notebook-cell:/c%3A/Users/legen/Untitled%20Folder/homework.ipynb#W2sZmlsZQ%3D%3D?line=1'>2</a>\u001b[0m \u001b[39m# l=n.split()\u001b[39;00m\n\u001b[0;32m      <a href='vscode-notebook-cell:/c%3A/Users/legen/Untitled%20Folder/homework.ipynb#W2sZmlsZQ%3D%3D?line=2'>3</a>\u001b[0m l\u001b[39m=\u001b[39m[\u001b[39m'\u001b[39m\u001b[39m1\u001b[39m\u001b[39m'\u001b[39m, \u001b[39m'\u001b[39m\u001b[39m2\u001b[39m\u001b[39m'\u001b[39m, \u001b[39m'\u001b[39m\u001b[39m3\u001b[39m\u001b[39m'\u001b[39m, \u001b[39m'\u001b[39m\u001b[39m4\u001b[39m\u001b[39m'\u001b[39m]\n\u001b[1;32m----> <a href='vscode-notebook-cell:/c%3A/Users/legen/Untitled%20Folder/homework.ipynb#W2sZmlsZQ%3D%3D?line=3'>4</a>\u001b[0m \u001b[39mfor\u001b[39;00m i \u001b[39min\u001b[39;00m \u001b[39mrange\u001b[39;49m(\u001b[39m0\u001b[39;49m,l):\n\u001b[0;32m      <a href='vscode-notebook-cell:/c%3A/Users/legen/Untitled%20Folder/homework.ipynb#W2sZmlsZQ%3D%3D?line=4'>5</a>\u001b[0m     \u001b[39mprint\u001b[39m(i)\n",
      "\u001b[1;31mTypeError\u001b[0m: 'list' object cannot be interpreted as an integer"
     ]
    }
   ],
   "source": [
    "# n=(input(\"enter the string\"))\n",
    "# l=n.split()\n",
    "l=['1', '2', '3', '4']\n",
    "for i in range(0,l):\n",
    "    print(i)"
   ]
  }
 ],
 "metadata": {
  "kernelspec": {
   "display_name": "Python 3",
   "language": "python",
   "name": "python3"
  },
  "language_info": {
   "codemirror_mode": {
    "name": "ipython",
    "version": 3
   },
   "file_extension": ".py",
   "mimetype": "text/x-python",
   "name": "python",
   "nbconvert_exporter": "python",
   "pygments_lexer": "ipython3",
   "version": "3.12.0"
  }
 },
 "nbformat": 4,
 "nbformat_minor": 2
}
