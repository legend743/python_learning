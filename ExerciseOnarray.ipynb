{
 "cells": [
  {
   "cell_type": "markdown",
   "metadata": {},
   "source": []
  },
  {
   "cell_type": "code",
   "execution_count": null,
   "metadata": {},
   "outputs": [
    {
     "name": "stdout",
     "output_type": "stream",
     "text": [
      "229\n"
     ]
    },
    {
     "data": {
      "text/plain": [
       "list"
      ]
     },
     "execution_count": 2,
     "metadata": {},
     "output_type": "execute_result"
    }
   ],
   "source": [
    "number=[12,4,33,5,66,44,65]\n",
    "\n",
    "sum=0\n",
    "for i in number:\n",
    "    sum=sum+i\n",
    "print(sum)\n",
    "type(number)"
   ]
  },
  {
   "cell_type": "code",
   "execution_count": null,
   "metadata": {},
   "outputs": [],
   "source": []
  },
  {
   "cell_type": "code",
   "execution_count": null,
   "metadata": {},
   "outputs": [
    {
     "name": "stdout",
     "output_type": "stream",
     "text": [
      "['a', 'd', 'j', 'k', 'h', 'j', 'k', 'n', 'd', 's', 'l', 'k', 'm', 'm', 'k', 'l', 'd', 'f']\n"
     ]
    }
   ],
   "source": [
    "\n",
    "a=\"a d j k h j k n d s l k m m k l d f\"\n",
    "l=a.split()\n",
    "    \n",
    "print(l)"
   ]
  },
  {
   "cell_type": "code",
   "execution_count": 49,
   "metadata": {},
   "outputs": [
    {
     "name": "stdout",
     "output_type": "stream",
     "text": [
      "{'a': 1, 'b': 1, 'c': 1, 'd': 1, 'e': 2, 'f': 1, 'g': 1, 'h': 1, 't': 1, 'r': 1}\n"
     ]
    }
   ],
   "source": [
    "chara=input(\"ENTER THE CHARACTER\")\n",
    "chara=chara.split()\n",
    "\n",
    "# s=['a', 'd', 'j', 'k', 'h', 'j', 'k', 'n', 'd', 's', 'l', 'k', 'm', 'm', 'k', 'l', 'd', 'f']\n",
    "\n",
    "count={}\n",
    "for word in chara:\n",
    "    if word in count:\n",
    "        count[word]=count[word]+1\n",
    "    else:\n",
    "        count[word]=1\n",
    "\n",
    "print(count)"
   ]
  },
  {
   "cell_type": "code",
   "execution_count": null,
   "metadata": {},
   "outputs": [],
   "source": [
    "#write a code for peak element\n",
    "#peak element is the element which is greater than its previous value and greater than successor value\n",
    "l=[1,2,4,5,6,7,8]\n",
    "if()"
   ]
  },
  {
   "cell_type": "code",
   "execution_count": 53,
   "metadata": {},
   "outputs": [
    {
     "name": "stdout",
     "output_type": "stream",
     "text": [
      "i h g f e d c b a\n"
     ]
    }
   ],
   "source": [
    "strng=input(\"ENter the string\")\n",
    "h=strng[: : -1]\n",
    "print(h)\n",
    "# reversed.string()\n",
    "# print(strng)"
   ]
  },
  {
   "cell_type": "code",
   "execution_count": 57,
   "metadata": {},
   "outputs": [
    {
     "ename": "AttributeError",
     "evalue": "'str' object has no attribute 'len'",
     "output_type": "error",
     "traceback": [
      "\u001b[1;31m---------------------------------------------------------------------------\u001b[0m",
      "\u001b[1;31mAttributeError\u001b[0m                            Traceback (most recent call last)",
      "\u001b[1;32mc:\\Users\\legen\\Untitled Folder\\ExerciseOnarray.ipynb Cell 8\u001b[0m line \u001b[0;36m2\n\u001b[0;32m      <a href='vscode-notebook-cell:/c%3A/Users/legen/Untitled%20Folder/ExerciseOnarray.ipynb#X13sZmlsZQ%3D%3D?line=0'>1</a>\u001b[0m strng\u001b[39m=\u001b[39m\u001b[39minput\u001b[39m(\u001b[39m\"\u001b[39m\u001b[39mENter the string\u001b[39m\u001b[39m\"\u001b[39m)\n\u001b[1;32m----> <a href='vscode-notebook-cell:/c%3A/Users/legen/Untitled%20Folder/ExerciseOnarray.ipynb#X13sZmlsZQ%3D%3D?line=1'>2</a>\u001b[0m reverse\u001b[39m=\u001b[39mstrng[\u001b[39m0\u001b[39m:strng\u001b[39m.\u001b[39;49mlen():\u001b[39m-\u001b[39m\u001b[39m1\u001b[39m]\n\u001b[0;32m      <a href='vscode-notebook-cell:/c%3A/Users/legen/Untitled%20Folder/ExerciseOnarray.ipynb#X13sZmlsZQ%3D%3D?line=2'>3</a>\u001b[0m \u001b[39mprint\u001b[39m(reverse)\n",
      "\u001b[1;31mAttributeError\u001b[0m: 'str' object has no attribute 'len'"
     ]
    }
   ],
   "source": [
    "strng=input(\"ENter the string\")\n",
    "reverse=strng[::-1]\n",
    "print(reverse)"
   ]
  },
  {
   "cell_type": "code",
   "execution_count": 58,
   "metadata": {},
   "outputs": [
    {
     "name": "stdout",
     "output_type": "stream",
     "text": [
      "4\n"
     ]
    }
   ],
   "source": [
    "# find th e occurance of x\n",
    "l=[1,3,4,5,6,7,78,1,31,1,3,1]\n",
    "x=1\n",
    "c=0\n",
    "for i in range(0,len(l)):\n",
    "    if(x==l[i]):\n",
    "        c=c+1\n",
    "print(c)\n"
   ]
  },
  {
   "cell_type": "code",
   "execution_count": 67,
   "metadata": {},
   "outputs": [
    {
     "data": {
      "text/plain": [
       "3"
      ]
     },
     "execution_count": 67,
     "metadata": {},
     "output_type": "execute_result"
    }
   ],
   "source": [
    "# 2nd method\n",
    "l=[1,2,3,4,1,4,1,3,4,5]\n",
    "l.count(1)\n"
   ]
  },
  {
   "cell_type": "code",
   "execution_count": 73,
   "metadata": {},
   "outputs": [
    {
     "data": {
      "text/plain": [
       "{1, 2, 3, 4, 5, 6, 7, 8, 9}"
      ]
     },
     "execution_count": 73,
     "metadata": {},
     "output_type": "execute_result"
    }
   ],
   "source": [
    "a={1,2,3,4,5,5}\n",
    "b={6,7,8,9}\n",
    "a.union(b)"
   ]
  },
  {
   "cell_type": "code",
   "execution_count": 74,
   "metadata": {},
   "outputs": [
    {
     "ename": "TypeError",
     "evalue": "unhashable type: 'list'",
     "output_type": "error",
     "traceback": [
      "\u001b[1;31m---------------------------------------------------------------------------\u001b[0m",
      "\u001b[1;31mTypeError\u001b[0m                                 Traceback (most recent call last)",
      "\u001b[1;32mc:\\Users\\legen\\Untitled Folder\\ExerciseOnarray.ipynb Cell 12\u001b[0m line \u001b[0;36m5\n\u001b[0;32m      <a href='vscode-notebook-cell:/c%3A/Users/legen/Untitled%20Folder/ExerciseOnarray.ipynb#X20sZmlsZQ%3D%3D?line=2'>3</a>\u001b[0m l\u001b[39m=\u001b[39m[\u001b[39m1\u001b[39m,\u001b[39m2\u001b[39m,\u001b[39m3\u001b[39m,\u001b[39m4\u001b[39m,\u001b[39m5\u001b[39m,\u001b[39m6\u001b[39m,\u001b[39m7\u001b[39m,\u001b[39m8\u001b[39m]\n\u001b[0;32m      <a href='vscode-notebook-cell:/c%3A/Users/legen/Untitled%20Folder/ExerciseOnarray.ipynb#X20sZmlsZQ%3D%3D?line=3'>4</a>\u001b[0m l1\u001b[39m=\u001b[39m[\u001b[39m32\u001b[39m,\u001b[39m44\u001b[39m,\u001b[39m55\u001b[39m,\u001b[39m66\u001b[39m,\u001b[39m66\u001b[39m]\n\u001b[1;32m----> <a href='vscode-notebook-cell:/c%3A/Users/legen/Untitled%20Folder/ExerciseOnarray.ipynb#X20sZmlsZQ%3D%3D?line=4'>5</a>\u001b[0m l2\u001b[39m=\u001b[39m{l}\n\u001b[0;32m      <a href='vscode-notebook-cell:/c%3A/Users/legen/Untitled%20Folder/ExerciseOnarray.ipynb#X20sZmlsZQ%3D%3D?line=5'>6</a>\u001b[0m l3\u001b[39m=\u001b[39m{l1}\n\u001b[0;32m      <a href='vscode-notebook-cell:/c%3A/Users/legen/Untitled%20Folder/ExerciseOnarray.ipynb#X20sZmlsZQ%3D%3D?line=6'>7</a>\u001b[0m l2\u001b[39m.\u001b[39munion(l2)\n",
      "\u001b[1;31mTypeError\u001b[0m: unhashable type: 'list'"
     ]
    }
   ],
   "source": [
    "# if given two array and ask for union\n",
    "#first covert the array into set because set has union operator\n",
    "l=[1,2,3,4,5,6,7,8]\n",
    "l1=[32,44,55,66,66]\n",
    "l2={l}\n",
    "l3={l1}\n",
    "l2.union(l2)"
   ]
  },
  {
   "cell_type": "code",
   "execution_count": 1,
   "metadata": {},
   "outputs": [
    {
     "data": {
      "text/plain": [
       "9"
      ]
     },
     "execution_count": 1,
     "metadata": {},
     "output_type": "execute_result"
    }
   ],
   "source": [
    "#lambda function\n",
    "f=lambda x:x*3\n",
    "f(3)\n"
   ]
  },
  {
   "cell_type": "code",
   "execution_count": null,
   "metadata": {},
   "outputs": [],
   "source": []
  },
  {
   "cell_type": "code",
   "execution_count": 3,
   "metadata": {},
   "outputs": [
    {
     "name": "stdout",
     "output_type": "stream",
     "text": [
      "20\n"
     ]
    }
   ],
   "source": [
    "t=lambda x,y:x if(x>y) else y\n",
    "print(t(10,20))"
   ]
  },
  {
   "cell_type": "code",
   "execution_count": 15,
   "metadata": {},
   "outputs": [
    {
     "ename": "NameError",
     "evalue": "name 'false' is not defined",
     "output_type": "error",
     "traceback": [
      "\u001b[1;31m---------------------------------------------------------------------------\u001b[0m",
      "\u001b[1;31mNameError\u001b[0m                                 Traceback (most recent call last)",
      "\u001b[1;32mc:\\Users\\legen\\Untitled Folder\\ExerciseOnarray.ipynb Cell 16\u001b[0m line \u001b[0;36m1\n\u001b[0;32m      <a href='vscode-notebook-cell:/c%3A/Users/legen/Untitled%20Folder/ExerciseOnarray.ipynb#X21sZmlsZQ%3D%3D?line=6'>7</a>\u001b[0m     \u001b[39melse\u001b[39;00m:\n\u001b[0;32m      <a href='vscode-notebook-cell:/c%3A/Users/legen/Untitled%20Folder/ExerciseOnarray.ipynb#X21sZmlsZQ%3D%3D?line=7'>8</a>\u001b[0m         \u001b[39mreturn\u001b[39;00m false\n\u001b[1;32m---> <a href='vscode-notebook-cell:/c%3A/Users/legen/Untitled%20Folder/ExerciseOnarray.ipynb#X21sZmlsZQ%3D%3D?line=9'>10</a>\u001b[0m x\u001b[39m=\u001b[39m\u001b[39mlist\u001b[39;49m(\u001b[39mfilter\u001b[39;49m(f,[\u001b[39m10\u001b[39;49m,\u001b[39m20\u001b[39;49m,\u001b[39m30\u001b[39;49m,\u001b[39m40\u001b[39;49m,\u001b[39m50\u001b[39;49m,\u001b[39m63\u001b[39;49m]))\n\u001b[0;32m     <a href='vscode-notebook-cell:/c%3A/Users/legen/Untitled%20Folder/ExerciseOnarray.ipynb#X21sZmlsZQ%3D%3D?line=11'>12</a>\u001b[0m \u001b[39m# out=list(filter(lambda x:x%3==0,[10,20,30,40,63]))\u001b[39;00m\n\u001b[0;32m     <a href='vscode-notebook-cell:/c%3A/Users/legen/Untitled%20Folder/ExerciseOnarray.ipynb#X21sZmlsZQ%3D%3D?line=12'>13</a>\u001b[0m \u001b[39m# print(out)\u001b[39;00m\n",
      "\u001b[1;32mc:\\Users\\legen\\Untitled Folder\\ExerciseOnarray.ipynb Cell 16\u001b[0m line \u001b[0;36m8\n\u001b[0;32m      <a href='vscode-notebook-cell:/c%3A/Users/legen/Untitled%20Folder/ExerciseOnarray.ipynb#X21sZmlsZQ%3D%3D?line=5'>6</a>\u001b[0m     \u001b[39mreturn\u001b[39;00m \u001b[39mTrue\u001b[39;00m\n\u001b[0;32m      <a href='vscode-notebook-cell:/c%3A/Users/legen/Untitled%20Folder/ExerciseOnarray.ipynb#X21sZmlsZQ%3D%3D?line=6'>7</a>\u001b[0m \u001b[39melse\u001b[39;00m:\n\u001b[1;32m----> <a href='vscode-notebook-cell:/c%3A/Users/legen/Untitled%20Folder/ExerciseOnarray.ipynb#X21sZmlsZQ%3D%3D?line=7'>8</a>\u001b[0m     \u001b[39mreturn\u001b[39;00m false\n",
      "\u001b[1;31mNameError\u001b[0m: name 'false' is not defined"
     ]
    }
   ],
   "source": [
    "#you can write a functionn for filtering the values\n",
    "#like this\n",
    "def f(x):\n",
    "    \n",
    "    if x%3==0:\n",
    "        return True\n",
    "    else:\n",
    "        return false\n",
    "        \n",
    "x=list(filter(f,[10,20,30,40,50,63]))\n",
    "\n",
    "# out=list(filter(lambda x:x%3==0,[10,20,30,40,63]))\n",
    "# print(out)"
   ]
  },
  {
   "cell_type": "code",
   "execution_count": 17,
   "metadata": {},
   "outputs": [
    {
     "name": "stdout",
     "output_type": "stream",
     "text": [
      "[10, 20, 44, 34]\n"
     ]
    }
   ],
   "source": [
    "def filt(x):\n",
    "    if x%2==0:\n",
    "        return True\n",
    "    else:\n",
    "        return False\n",
    "outuput=list(filter(filt,[10,20,33,43,55,44,34]))\n",
    "print(outuput)"
   ]
  },
  {
   "cell_type": "code",
   "execution_count": 23,
   "metadata": {},
   "outputs": [
    {
     "ename": "TypeError",
     "evalue": "not all arguments converted during string formatting",
     "output_type": "error",
     "traceback": [
      "\u001b[1;31m---------------------------------------------------------------------------\u001b[0m",
      "\u001b[1;31mTypeError\u001b[0m                                 Traceback (most recent call last)",
      "\u001b[1;32mc:\\Users\\legen\\Untitled Folder\\ExerciseOnarray.ipynb Cell 18\u001b[0m line \u001b[0;36m9\n\u001b[0;32m      <a href='vscode-notebook-cell:/c%3A/Users/legen/Untitled%20Folder/ExerciseOnarray.ipynb#X23sZmlsZQ%3D%3D?line=4'>5</a>\u001b[0m     \u001b[39melse\u001b[39;00m:\n\u001b[0;32m      <a href='vscode-notebook-cell:/c%3A/Users/legen/Untitled%20Folder/ExerciseOnarray.ipynb#X23sZmlsZQ%3D%3D?line=5'>6</a>\u001b[0m         \u001b[39mreturn\u001b[39;00m \u001b[39mFalse\u001b[39;00m\n\u001b[1;32m----> <a href='vscode-notebook-cell:/c%3A/Users/legen/Untitled%20Folder/ExerciseOnarray.ipynb#X23sZmlsZQ%3D%3D?line=8'>9</a>\u001b[0m outuput\u001b[39m=\u001b[39m\u001b[39mlist\u001b[39;49m(\u001b[39mfilter\u001b[39;49m(filt,y))\n\u001b[0;32m     <a href='vscode-notebook-cell:/c%3A/Users/legen/Untitled%20Folder/ExerciseOnarray.ipynb#X23sZmlsZQ%3D%3D?line=9'>10</a>\u001b[0m \u001b[39mprint\u001b[39m(outuput)\n\u001b[0;32m     <a href='vscode-notebook-cell:/c%3A/Users/legen/Untitled%20Folder/ExerciseOnarray.ipynb#X23sZmlsZQ%3D%3D?line=10'>11</a>\u001b[0m \u001b[39mprint\u001b[39m(y)\n",
      "\u001b[1;32mc:\\Users\\legen\\Untitled Folder\\ExerciseOnarray.ipynb Cell 18\u001b[0m line \u001b[0;36m3\n\u001b[0;32m      <a href='vscode-notebook-cell:/c%3A/Users/legen/Untitled%20Folder/ExerciseOnarray.ipynb#X23sZmlsZQ%3D%3D?line=1'>2</a>\u001b[0m \u001b[39mdef\u001b[39;00m \u001b[39mfilt\u001b[39m(x):\n\u001b[1;32m----> <a href='vscode-notebook-cell:/c%3A/Users/legen/Untitled%20Folder/ExerciseOnarray.ipynb#X23sZmlsZQ%3D%3D?line=2'>3</a>\u001b[0m     \u001b[39mif\u001b[39;00m x\u001b[39m%\u001b[39;49m\u001b[39m2\u001b[39;49m\u001b[39m==\u001b[39m\u001b[39m0\u001b[39m:\n\u001b[0;32m      <a href='vscode-notebook-cell:/c%3A/Users/legen/Untitled%20Folder/ExerciseOnarray.ipynb#X23sZmlsZQ%3D%3D?line=3'>4</a>\u001b[0m         \u001b[39mreturn\u001b[39;00m \u001b[39mTrue\u001b[39;00m\n\u001b[0;32m      <a href='vscode-notebook-cell:/c%3A/Users/legen/Untitled%20Folder/ExerciseOnarray.ipynb#X23sZmlsZQ%3D%3D?line=4'>5</a>\u001b[0m     \u001b[39melse\u001b[39;00m:\n",
      "\u001b[1;31mTypeError\u001b[0m: not all arguments converted during string formatting"
     ]
    }
   ],
   "source": [
    "y=input(\"Enter the values\")\n",
    "def filt(x):\n",
    "    if x%2==0:\n",
    "        return True\n",
    "    else:\n",
    "        return False\n",
    "\n",
    "\n",
    "outuput=list(filter(filt,y[]))\n",
    "print(outuput)\n",
    "print(y)\n"
   ]
  },
  {
   "cell_type": "code",
   "execution_count": 25,
   "metadata": {},
   "outputs": [
    {
     "name": "stdout",
     "output_type": "stream",
     "text": [
      "[15, 7, 9, 7, 9]\n"
     ]
    }
   ],
   "source": [
    "# this is map\n",
    "def f(x):\n",
    "    return x+5\n",
    "out=list(map(f,[10,2,4,2,4]))\n",
    "print(out)"
   ]
  },
  {
   "cell_type": "code",
   "execution_count": 26,
   "metadata": {},
   "outputs": [
    {
     "name": "stdout",
     "output_type": "stream",
     "text": [
      "[15, 7, 6, 8, 10, 12]\n"
     ]
    }
   ],
   "source": [
    "out=list(map(lambda x: x+4,[11,3,2,4,6,8]))\n",
    "print(out)"
   ]
  },
  {
   "cell_type": "code",
   "execution_count": 30,
   "metadata": {},
   "outputs": [
    {
     "name": "stdout",
     "output_type": "stream",
     "text": [
      "True\n"
     ]
    }
   ],
   "source": [
    "x=True\n",
    "y=False\n",
    "print(not y)"
   ]
  },
  {
   "cell_type": "code",
   "execution_count": 31,
   "metadata": {},
   "outputs": [
    {
     "name": "stdout",
     "output_type": "stream",
     "text": [
      "0.5446390350150271\n",
      "0.838670567945424\n",
      "1.7788349955726668\n"
     ]
    }
   ],
   "source": [
    "import math\n",
    "#take input from the user\n",
    "angle_degrees=float(input(\"Enter degree of angle\"))\n",
    "#now convert the angle degrees into radian\n",
    "angle_radians=math.radians(angle_degrees)\n",
    "# calculate sin,cos and exponential value\n",
    "sin_value=math.sin(angle_radians)\n",
    "cos_value=math.cos(angle_radians)\n",
    "exp_value=math.exp(angle_radians)\n",
    "#now print all the values\n",
    "print(sin_value)\n",
    "print(cos_value)\n",
    "print(exp_value)"
   ]
  },
  {
   "cell_type": "code",
   "execution_count": 32,
   "metadata": {},
   "outputs": [
    {
     "name": "stdout",
     "output_type": "stream",
     "text": [
      "Sum of the series: 1.45\n"
     ]
    }
   ],
   "source": [
    "import math\n",
    "\n",
    "def calculate_series_sum(n):\n",
    "    total_sum = 0\n",
    "    \n",
    "    for i in range(1, n + 1):\n",
    "        factorial_i = math.factorial(i)\n",
    "        factorial_i_plus_1 = math.factorial(i + 1)\n",
    "        term = factorial_i / factorial_i_plus_1\n",
    "        total_sum += term\n",
    "    \n",
    "    return total_sum\n",
    "\n",
    "# Get the number of terms in the series from the user\n",
    "n = int(input(\"Enter the number of terms in the series: \"))\n",
    "\n",
    "# Calculate and print the sum of the series\n",
    "series_sum = calculate_series_sum(n)\n",
    "print(\"Sum of the series:\", series_sum)\n"
   ]
  },
  {
   "cell_type": "code",
   "execution_count": null,
   "metadata": {},
   "outputs": [],
   "source": []
  },
  {
   "cell_type": "code",
   "execution_count": 28,
   "metadata": {},
   "outputs": [
    {
     "name": "stdout",
     "output_type": "stream",
     "text": [
      "The given number is odd\n"
     ]
    }
   ],
   "source": [
    "n= int(input(\"Enter the number\"))\n",
    "if n%2==0:\n",
    "    print(\"the given  number is even\")\n",
    "else:\n",
    "    print(\"The given number is odd\")"
   ]
  },
  {
   "cell_type": "code",
   "execution_count": 29,
   "metadata": {},
   "outputs": [
    {
     "name": "stdout",
     "output_type": "stream",
     "text": [
      "4\n"
     ]
    }
   ],
   "source": [
    "x=8\n",
    "y=2\n",
    "print(x//y)"
   ]
  },
  {
   "cell_type": "code",
   "execution_count": 6,
   "metadata": {},
   "outputs": [
    {
     "name": "stdout",
     "output_type": "stream",
     "text": [
      "Place values of 211 are: [200, 10, 1]\n"
     ]
    }
   ],
   "source": [
    "# # Function to calculate place values of a number\n",
    "# def calculate_place_values(number):\n",
    "#     num_str = str(number)\n",
    "#     place_values = []\n",
    "#     length = len(num_str)\n",
    "    \n",
    "#     for i in range(length):\n",
    "#         place_value = int(num_str[i]) * 10 ** (length - i - 1)\n",
    "#         place_values.append(place_value)\n",
    "    \n",
    "#     return place_values\n",
    "\n",
    "# # Example usage\n",
    "# number = 211\n",
    "# place_values = calculate_place_values(number)\n",
    "# print(\"Place values of\", number, \"are:\", place_values)\n"
   ]
  },
  {
   "cell_type": "code",
   "execution_count": 10,
   "metadata": {},
   "outputs": [
    {
     "name": "stdout",
     "output_type": "stream",
     "text": [
      "[10000, 2000, 300, 40, 5]\n"
     ]
    }
   ],
   "source": [
    "num_values='12345'\n",
    "place_values=[]\n",
    "length=len(num_values)\n",
    "for i in range(length):\n",
    "    place_value=int(num_values[i])*10**(length-i-1)\n",
    "   \n",
    "    place_values.append(place_value)\n",
    "print(place_values)"
   ]
  }
 ],
 "metadata": {
  "kernelspec": {
   "display_name": "Python 3",
   "language": "python",
   "name": "python3"
  },
  "language_info": {
   "codemirror_mode": {
    "name": "ipython",
    "version": 3
   },
   "file_extension": ".py",
   "mimetype": "text/x-python",
   "name": "python",
   "nbconvert_exporter": "python",
   "pygments_lexer": "ipython3",
   "version": "3.12.0"
  }
 },
 "nbformat": 4,
 "nbformat_minor": 2
}
