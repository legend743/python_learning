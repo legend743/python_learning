{
 "cells": [
  {
   "cell_type": "code",
   "execution_count": 12,
   "metadata": {},
   "outputs": [
    {
     "ename": "SyntaxError",
     "evalue": "invalid syntax (908884377.py, line 2)",
     "output_type": "error",
     "traceback": [
      "\u001b[1;36m  Cell \u001b[1;32mIn[12], line 2\u001b[1;36m\u001b[0m\n\u001b[1;33m    l=[for i in range(100)]\u001b[0m\n\u001b[1;37m       ^\u001b[0m\n\u001b[1;31mSyntaxError\u001b[0m\u001b[1;31m:\u001b[0m invalid syntax\n"
     ]
    }
   ],
   "source": [
    "import numpy as np\n",
    "l=[for i in range(100)]\n",
    "\n",
    "print(l)\n"
   ]
  },
  {
   "cell_type": "code",
   "execution_count": null,
   "metadata": {},
   "outputs": [
    {
     "name": "stdout",
     "output_type": "stream",
     "text": [
      "[0. 0. 0.]\n"
     ]
    }
   ],
   "source": [
    "import numpy as np\n",
    "n=np.zeros(3)\n",
    "print(n)"
   ]
  },
  {
   "cell_type": "code",
   "execution_count": null,
   "metadata": {},
   "outputs": [
    {
     "name": "stdout",
     "output_type": "stream",
     "text": [
      "[10 20 30 50 60]\n",
      "20\n"
     ]
    }
   ],
   "source": [
    "l=[10,20,30,50,60]\n",
    "_num=np.array(l)\n",
    "print(_num)\n",
    "print(_num[1])"
   ]
  },
  {
   "cell_type": "code",
   "execution_count": 13,
   "metadata": {},
   "outputs": [
    {
     "name": "stdout",
     "output_type": "stream",
     "text": [
      "<memory at 0x00000166394ACB80>\n",
      "(5,)\n",
      "int32\n",
      "(4,)\n"
     ]
    }
   ],
   "source": [
    "print(_num.data)\n",
    "print(_num.shape)\n",
    "print(_num.dtype)\n",
    "print(_num.strides)"
   ]
  },
  {
   "cell_type": "code",
   "execution_count": 15,
   "metadata": {},
   "outputs": [
    {
     "name": "stdout",
     "output_type": "stream",
     "text": [
      "[[1 2 3 4 2 5]\n",
      " [2 4 5 6 7 7]\n",
      " [3 5 7 8 9 9]\n",
      " [7 6 4 3 6 6]]\n"
     ]
    }
   ],
   "source": [
    "l=[[1,2,3,4,2,5],[2,4,5,6,7,7],[3,5,7,8,9,9],[7,6,4,3,6,6]]\n",
    "num_arr1=np.array(l,dtype=int)\n",
    "print(num_arr1)\n"
   ]
  },
  {
   "cell_type": "code",
   "execution_count": 16,
   "metadata": {},
   "outputs": [
    {
     "name": "stdout",
     "output_type": "stream",
     "text": [
      "<memory at 0x000001663F8E5970>\n",
      "(4, 6)\n",
      "(24, 4)\n",
      "int32\n"
     ]
    }
   ],
   "source": [
    "print(num_arr1.data)\n",
    "print(num_arr1.shape)\n",
    "print(num_arr1.strides)\n",
    "print(num_arr1.dtype)"
   ]
  },
  {
   "cell_type": "code",
   "execution_count": 20,
   "metadata": {},
   "outputs": [
    {
     "name": "stdout",
     "output_type": "stream",
     "text": [
      "1\n",
      "[5 6 7]\n"
     ]
    }
   ],
   "source": [
    "print(num_arr1[0,0])\n",
    "\n",
    "print(num_arr1[1][2:5])"
   ]
  }
 ],
 "metadata": {
  "kernelspec": {
   "display_name": "Python 3",
   "language": "python",
   "name": "python3"
  },
  "language_info": {
   "codemirror_mode": {
    "name": "ipython",
    "version": 3
   },
   "file_extension": ".py",
   "mimetype": "text/x-python",
   "name": "python",
   "nbconvert_exporter": "python",
   "pygments_lexer": "ipython3",
   "version": "3.12.0"
  }
 },
 "nbformat": 4,
 "nbformat_minor": 2
}
