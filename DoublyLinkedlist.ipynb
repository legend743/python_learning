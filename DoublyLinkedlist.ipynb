{
 "cells": [
  {
   "cell_type": "markdown",
   "metadata": {},
   "source": [
    "This is doubly linked list"
   ]
  },
  {
   "cell_type": "code",
   "execution_count": 10,
   "metadata": {},
   "outputs": [],
   "source": [
    "class Node:\n",
    "    def __init__(self,data):\n",
    "        self.prev=None\n",
    "        self.data=data\n",
    "        self.next=None\n"
   ]
  },
  {
   "cell_type": "code",
   "execution_count": 22,
   "metadata": {},
   "outputs": [
    {
     "name": "stdout",
     "output_type": "stream",
     "text": [
      "99\n",
      "44\n",
      "77\n",
      "33\n",
      "4\n"
     ]
    }
   ],
   "source": [
    "class Node:\n",
    "    def __init__(self,data):\n",
    "        self.prev=None\n",
    "        self.data=data\n",
    "        self.next=None\n",
    "def CreateDoublyll():\n",
    "    l=[int(ele) for ele in input().split()]\n",
    "    head=None\n",
    "    prev=None\n",
    "    for i in range(len(l)):\n",
    "        new_node=Node(l[i])\n",
    "        if head is None:\n",
    "            head =new_node\n",
    "        else:\n",
    "            prev.next=new_node\n",
    "            new_node.prev=prev\n",
    "        prev=new_node\n",
    "    return head\n",
    "            \n",
    "\n",
    "head=CreateDoublyll()\n",
    "printDl(head)"
   ]
  },
  {
   "cell_type": "code",
   "execution_count": 20,
   "metadata": {},
   "outputs": [],
   "source": [
    "def printDl(head):\n",
    "    while head:\n",
    "        print(head.data)\n",
    "        head=head.next\n",
    "    "
   ]
  }
 ],
 "metadata": {
  "kernelspec": {
   "display_name": "Python 3",
   "language": "python",
   "name": "python3"
  },
  "language_info": {
   "codemirror_mode": {
    "name": "ipython",
    "version": 3
   },
   "file_extension": ".py",
   "mimetype": "text/x-python",
   "name": "python",
   "nbconvert_exporter": "python",
   "pygments_lexer": "ipython3",
   "version": "3.12.0"
  }
 },
 "nbformat": 4,
 "nbformat_minor": 2
}
