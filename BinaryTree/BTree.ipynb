{
 "cells": [
  {
   "cell_type": "code",
   "execution_count": 2,
   "metadata": {},
   "outputs": [],
   "source": [
    "class BTNode:\n",
    "    def __init__(self,data):\n",
    "        self.data=data\n",
    "        self.left=None\n",
    "        self.right=None\n",
    "    def heightOfTree(root):\n",
    "\n",
    "        if root is  None:\n",
    "            return -1\n",
    "        return 1+max(self.heightOfTree(root.left),self.heightOfTree(root.right))\n",
    "    "
   ]
  },
  {
   "cell_type": "code",
   "execution_count": 3,
   "metadata": {},
   "outputs": [],
   "source": [
    "def BTNodeInsert(data):\n",
    "    newBtNode=BTNode()\n",
    "    newBtNode.data=data\n",
    "    newBtNode.left=None\n",
    "    newBtNode.right=None\n",
    "    \n"
   ]
  },
  {
   "cell_type": "code",
   "execution_count": 4,
   "metadata": {},
   "outputs": [],
   "source": [
    "# n=int(input(\"Enter the value of node\"))\n",
    "b1=BTNode(4)\n",
    "b2=BTNode(5)\n",
    "b3=BTNode(6)\n",
    "b1.left=b2\n",
    "b1.right=b3\n",
    "b4=BTNode(7)\n",
    "b5=BTNode(8)\n",
    "b2.left=b4\n",
    "b2.right=b5\n",
    "b6=BTNode(9)\n",
    "b7=BTNode(19)\n",
    "b3.left=b6\n",
    "b3.right=b7\n",
    "b8=BTNode(66)\n",
    "b9=b8=BTNode(33)\n",
    "b6.left=b8\n",
    "b6.right=b9\n",
    "b10=b8=BTNode(23)\n",
    "b11=BTNode(999)\n",
    "b7.left=b10\n",
    "b7.right=b11\n",
    "b12=BTNode(56)\n",
    "b13=BTNode(87)\n",
    "b4.left=b12\n",
    "b4.right=b13\n",
    "b14=BTNode(557)\n",
    "b15=BTNode(878)\n",
    "b5.left=b14\n",
    "b5.right=b15\n",
    "\n"
   ]
  },
  {
   "cell_type": "code",
   "execution_count": 5,
   "metadata": {},
   "outputs": [
    {
     "name": "stdout",
     "output_type": "stream",
     "text": [
      "4\n",
      "5\n",
      "7\n",
      "56\n",
      "87\n",
      "8\n",
      "557\n",
      "878\n",
      "6\n",
      "9\n",
      "33\n",
      "33\n",
      "19\n",
      "23\n",
      "999\n",
      "[4, 5, 7, 56, 87, 8, 557, 878, 6, 9, 33, 33, 19, 23, 999]\n"
     ]
    }
   ],
   "source": [
    "l=[]\n",
    "def preOrder(root):\n",
    "    if root is None:\n",
    "        return None\n",
    "    print(root.data)\n",
    "    l.append(root.data)\n",
    "    preOrder(root.left)\n",
    "    preOrder(root.right)\n",
    "preOrder(b1)\n",
    "print(l)"
   ]
  },
  {
   "cell_type": "code",
   "execution_count": 16,
   "metadata": {},
   "outputs": [
    {
     "name": "stdout",
     "output_type": "stream",
     "text": [
      "56\n",
      "87\n",
      "7\n",
      "557\n",
      "878\n",
      "8\n",
      "5\n",
      "33\n",
      "33\n",
      "9\n",
      "23\n",
      "999\n",
      "19\n",
      "6\n",
      "4\n",
      "[4, 5, 5, 7, 7, 56, 56, 87, 87, 8, 8, 557, 557, 878, 878, 6, 6, 9, 9, 33, 33, 33, 33, 19, 19, 23, 23, 999, 999]\n"
     ]
    }
   ],
   "source": [
    "def PostOrder(root):\n",
    "    if root is None:\n",
    "        return None\n",
    "    \n",
    "    PostOrder(root.left)\n",
    "    PostOrder(root.right)\n",
    "    \n",
    "    print(root.data)\n",
    "\n",
    "PostOrder(b1)"
   ]
  },
  {
   "cell_type": "code",
   "execution_count": 7,
   "metadata": {},
   "outputs": [
    {
     "name": "stdout",
     "output_type": "stream",
     "text": [
      "56\n",
      "87\n",
      "7\n",
      "557\n",
      "878\n",
      "8\n",
      "5\n",
      "33\n",
      "33\n",
      "9\n",
      "23\n",
      "999\n",
      "19\n",
      "6\n",
      "4\n"
     ]
    }
   ],
   "source": [
    "PostOrder(b1)"
   ]
  },
  {
   "cell_type": "code",
   "execution_count": 8,
   "metadata": {},
   "outputs": [
    {
     "name": "stdout",
     "output_type": "stream",
     "text": [
      "56\n",
      "7\n",
      "87\n",
      "5\n",
      "557\n",
      "8\n",
      "878\n",
      "4\n",
      "33\n",
      "9\n",
      "33\n",
      "6\n",
      "23\n",
      "19\n",
      "999\n",
      "[56, 7, 87, 5, 557, 8, 878, 4, 33, 9, 33, 6, 23, 19, 999]\n",
      "15\n"
     ]
    }
   ],
   "source": [
    "l=[]\n",
    "count=0\n",
    "def InorderTraversal(root):\n",
    "    global count\n",
    "    if root is None:\n",
    "        return None\n",
    "    InorderTraversal(root.left)\n",
    "    print(root.data)\n",
    "    count+=1\n",
    "    l.append(root.data)\n",
    "    InorderTraversal(root.right)\n",
    "InorderTraversal(b1)\n",
    "print(l)\n",
    "print(count)"
   ]
  },
  {
   "cell_type": "markdown",
   "metadata": {},
   "source": [
    "\n",
    "\n",
    "\n"
   ]
  },
  {
   "cell_type": "code",
   "execution_count": null,
   "metadata": {},
   "outputs": [],
   "source": [
    "\n",
    "    "
   ]
  },
  {
   "cell_type": "code",
   "execution_count": 9,
   "metadata": {},
   "outputs": [
    {
     "ename": "NameError",
     "evalue": "name 'heightOfTree' is not defined",
     "output_type": "error",
     "traceback": [
      "\u001b[1;31m---------------------------------------------------------------------------\u001b[0m",
      "\u001b[1;31mNameError\u001b[0m                                 Traceback (most recent call last)",
      "\u001b[1;32mc:\\Users\\legen\\Pyhton_Jupyter\\python_learning\\BinaryTree\\BTree.ipynb Cell 10\u001b[0m line \u001b[0;36m1\n\u001b[1;32m----> <a href='vscode-notebook-cell:/c%3A/Users/legen/Pyhton_Jupyter/python_learning/BinaryTree/BTree.ipynb#X12sZmlsZQ%3D%3D?line=0'>1</a>\u001b[0m heightOfTree(b1)\n",
      "\u001b[1;31mNameError\u001b[0m: name 'heightOfTree' is not defined"
     ]
    }
   ],
   "source": [
    "heightOfTree(b1)"
   ]
  },
  {
   "cell_type": "code",
   "execution_count": null,
   "metadata": {},
   "outputs": [],
   "source": [
    "class"
   ]
  },
  {
   "cell_type": "markdown",
   "metadata": {},
   "source": [
    "the given below code is for adding the node or we can say sum of all integers"
   ]
  },
  {
   "cell_type": "code",
   "execution_count": null,
   "metadata": {},
   "outputs": [
    {
     "name": "stdout",
     "output_type": "stream",
     "text": [
      "2724\n"
     ]
    }
   ],
   "source": [
    "def isSum(root):\n",
    "    if root is None:\n",
    "        return None\n",
    "    if root.left is None and root.right is None:\n",
    "        return root.data\n",
    "    left_sum=isSum(root.left)\n",
    "    right_sum=isSum(root.right)\n",
    "    total_sum=root.data+left_sum+right_sum\n",
    "    return total_sum\n",
    "sum=isSum(b1)\n",
    "print(sum)\n",
    "\n"
   ]
  },
  {
   "cell_type": "code",
   "execution_count": null,
   "metadata": {},
   "outputs": [
    {
     "name": "stdout",
     "output_type": "stream",
     "text": [
      "[56, 87]\n",
      "[557, 878]\n",
      "[33, 33]\n",
      "[23, 999]\n"
     ]
    }
   ],
   "source": [
    "k=2\n",
    "\n",
    "def printAllelemntAtK(root,k):\n",
    "    ckeck=k\n",
    "    count=0\n",
    "    l=[]\n",
    "    if root is None:\n",
    "        return None\n",
    "    if k==0:\n",
    "        return root.data\n",
    "    root_left=root.left.data\n",
    "    root_right=root.right.data\n",
    "    \n",
    "    l.append(root_left)\n",
    "    l.append(root_right)\n",
    " \n",
    "    count+=1\n",
    "    if count==ckeck:\n",
    "        print(l)\n",
    "   \n",
    "    printAllelemntAtK(root.left,k-1)\n",
    "    printAllelemntAtK(root.right,k-1)\n",
    "    \n",
    "\n",
    "printAllelemntAtK(b1,3)\n",
    "\n",
    "\n",
    "    \n"
   ]
  },
  {
   "cell_type": "code",
   "execution_count": null,
   "metadata": {},
   "outputs": [
    {
     "name": "stdout",
     "output_type": "stream",
     "text": [
      "yes they are identical\n"
     ]
    }
   ],
   "source": [
    "l1=[12,44,55]\n",
    "l2=[66,99,33]\n",
    "l3=[12,44,55]\n",
    "if l1==l2:\n",
    "    print(\"yes thet are identical\")\n",
    "\n",
    "elif l1==l3:\n",
    "    print(\"yes they are identical\")\n",
    "\n",
    "# else:\n",
    "#     print(\"they all are not identical\")"
   ]
  },
  {
   "cell_type": "code",
   "execution_count": 34,
   "metadata": {},
   "outputs": [
    {
     "name": "stdout",
     "output_type": "stream",
     "text": [
      "Trees is identical\n",
      "[4, 5, 5, 7, 7, 56, 56, 87, 87, 8, 8, 557, 557, 878, 878, 6, 6, 9, 9, 33, 33, 33, 33, 19, 19, 23, 23, 999, 999]\n",
      "[4, 5, 5, 7, 7, 56, 56, 87, 87, 8, 8, 557, 557, 878, 878, 6, 6, 9, 9, 33, 33, 33, 33, 19, 19, 23, 23, 999, 999]\n"
     ]
    }
   ],
   "source": [
    "l1=[]\n",
    "l2=[]\n",
    "def CheckList(root,l):\n",
    "    if root is None:\n",
    "        return \n",
    "    if root:\n",
    "        l.append(root.data)\n",
    "\n",
    "    if root.left:\n",
    "        left_recursion=root.left.data\n",
    "        l.append(left_recursion)\n",
    "        CheckList(root.left,l)\n",
    "    if root.right:\n",
    "\n",
    "        right_recursion=root.right.data\n",
    "    \n",
    "        l.append(right_recursion)\n",
    "    \n",
    "        CheckList(root.right,l)\n",
    "\n",
    "\n",
    "CheckList(b1,l1)\n",
    "CheckList(b1,l2)\n",
    "if l1==l2:\n",
    "    print(\"Trees is identical\")\n",
    "else:\n",
    "    print(\"Trees are not Identical\")\n",
    "print(l1)\n",
    "print(l2)\n"
   ]
  },
  {
   "cell_type": "code",
   "execution_count": null,
   "metadata": {},
   "outputs": [],
   "source": []
  }
 ],
 "metadata": {
  "kernelspec": {
   "display_name": "Python 3",
   "language": "python",
   "name": "python3"
  },
  "language_info": {
   "codemirror_mode": {
    "name": "ipython",
    "version": 3
   },
   "file_extension": ".py",
   "mimetype": "text/x-python",
   "name": "python",
   "nbconvert_exporter": "python",
   "pygments_lexer": "ipython3",
   "version": "3.12.0"
  }
 },
 "nbformat": 4,
 "nbformat_minor": 2
}
