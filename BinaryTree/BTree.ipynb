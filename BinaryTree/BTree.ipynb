{
 "cells": [
  {
   "cell_type": "code",
   "execution_count": 8,
   "metadata": {},
   "outputs": [],
   "source": [
    "class BTNode:\n",
    "    def __init__(self,data):\n",
    "        self.data=data\n",
    "        self.left=None\n",
    "        self.right=None\n",
    "    "
   ]
  },
  {
   "cell_type": "code",
   "execution_count": 9,
   "metadata": {},
   "outputs": [],
   "source": [
    "def BTNodeInsert(data):\n",
    "    newBtNode=BTNode()\n",
    "    newBtNode.data=data\n",
    "    newBtNode.left=None\n",
    "    newBtNode.right=None\n",
    "    \n"
   ]
  },
  {
   "cell_type": "code",
   "execution_count": 14,
   "metadata": {},
   "outputs": [],
   "source": [
    "# n=int(input(\"Enter the value of node\"))\n",
    "b1=BTNode(4)\n",
    "b2=BTNode(5)\n",
    "b3=BTNode(6)\n",
    "b1.left=b2\n",
    "b1.right=b3\n",
    "b4=BTNode(7)\n",
    "b5=BTNode(8)\n",
    "b2.left=b4\n",
    "b2.right=b5\n",
    "b6=BTNode(9)\n",
    "b7=BTNode(19)\n",
    "b3.left=b6\n",
    "b3.right=b7\n",
    "\n"
   ]
  },
  {
   "cell_type": "code",
   "execution_count": 33,
   "metadata": {},
   "outputs": [
    {
     "name": "stdout",
     "output_type": "stream",
     "text": [
      "4\n",
      "5\n",
      "7\n",
      "8\n",
      "6\n",
      "9\n",
      "19\n",
      "[4, 5, 7, 8, 6, 9, 19]\n"
     ]
    }
   ],
   "source": [
    "l=[]\n",
    "def preOrder(root):\n",
    "    if root is None:\n",
    "        return None\n",
    "    print(root.data)\n",
    "    l.append(root.data)\n",
    "    preOrder(root.left)\n",
    "    preOrder(root.right)\n",
    "preOrder(b1)\n",
    "print(l)"
   ]
  },
  {
   "cell_type": "code",
   "execution_count": 40,
   "metadata": {},
   "outputs": [
    {
     "name": "stdout",
     "output_type": "stream",
     "text": [
      "7\n",
      "8\n",
      "5\n",
      "9\n",
      "19\n",
      "6\n",
      "4\n"
     ]
    }
   ],
   "source": [
    "def PostOrder(root):\n",
    "    if root is None:\n",
    "        return None\n",
    "    \n",
    "    PostOrder(root.left)\n",
    "    PostOrder(root.right)\n",
    "    \n",
    "    print(root.data)\n",
    "\n",
    "PostOrder(b1)"
   ]
  },
  {
   "cell_type": "code",
   "execution_count": 32,
   "metadata": {},
   "outputs": [
    {
     "name": "stdout",
     "output_type": "stream",
     "text": [
      "4 bahar wala porint h\n"
     ]
    }
   ],
   "source": [
    "PostOrder(b1)"
   ]
  },
  {
   "cell_type": "code",
   "execution_count": 50,
   "metadata": {},
   "outputs": [
    {
     "name": "stdout",
     "output_type": "stream",
     "text": [
      "7\n",
      "5\n",
      "8\n",
      "4\n",
      "9\n",
      "6\n",
      "19\n",
      "[7, 5, 8, 4, 9, 6, 19]\n",
      "7\n"
     ]
    }
   ],
   "source": [
    "l=[]\n",
    "count=0\n",
    "def InorderTraversal(root):\n",
    "    global count\n",
    "    if root is None:\n",
    "        return None\n",
    "    InorderTraversal(root.left)\n",
    "    print(root.data)\n",
    "    count+=1\n",
    "    l.append(root.data)\n",
    "    InorderTraversal(root.right)\n",
    "InorderTraversal(b1)\n",
    "print(l)\n",
    "print(count)"
   ]
  },
  {
   "cell_type": "markdown",
   "metadata": {},
   "source": []
  },
  {
   "cell_type": "code",
   "execution_count": null,
   "metadata": {},
   "outputs": [],
   "source": []
  }
 ],
 "metadata": {
  "kernelspec": {
   "display_name": "Python 3",
   "language": "python",
   "name": "python3"
  },
  "language_info": {
   "codemirror_mode": {
    "name": "ipython",
    "version": 3
   },
   "file_extension": ".py",
   "mimetype": "text/x-python",
   "name": "python",
   "nbconvert_exporter": "python",
   "pygments_lexer": "ipython3",
   "version": "3.12.0"
  }
 },
 "nbformat": 4,
 "nbformat_minor": 2
}
