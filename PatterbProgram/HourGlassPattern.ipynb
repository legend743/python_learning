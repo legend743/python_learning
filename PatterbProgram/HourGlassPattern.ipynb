{
 "cells": [
  {
   "cell_type": "markdown",
   "metadata": {},
   "source": [
    "* * * *\n",
    " * * * \n",
    "  * * \n",
    "   *\n",
    "  * *\n",
    " * * * \n",
    "* * * * \n",
    " This is Hourglass pattern\n",
    " "
   ]
  },
  {
   "cell_type": "code",
   "execution_count": null,
   "metadata": {},
   "outputs": [],
   "source": []
  }
 ],
 "metadata": {
  "language_info": {
   "name": "python"
  }
 },
 "nbformat": 4,
 "nbformat_minor": 2
}
