{
 "cells": [
  {
   "cell_type": "markdown",
   "metadata": {},
   "source": [
    "   *   \n",
    "  * * \n",
    " *   *\n",
    "*     *\n",
    " *   *\n",
    "  * *\n",
    "   *\n",
    "   this is hollow full Pyramid"
   ]
  }
 ],
 "metadata": {
  "kernelspec": {
   "display_name": "Python 3",
   "language": "python",
   "name": "python3"
  },
  "language_info": {
   "name": "python",
   "version": "3.12.0"
  }
 },
 "nbformat": 4,
 "nbformat_minor": 2
}
