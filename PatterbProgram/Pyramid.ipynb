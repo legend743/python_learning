{
 "cells": [
  {
   "cell_type": "code",
   "execution_count": 1,
   "metadata": {},
   "outputs": [
    {
     "name": "stdout",
     "output_type": "stream",
     "text": [
      "    * \n",
      "  * * * \n",
      "* * * * * \n"
     ]
    }
   ],
   "source": [
    "# n=int(input(\"enter the value\"))\n",
    "rows=3\n",
    "k=0\n",
    "for i in range(1,rows+1):\n",
    "\n",
    "    for j in range(1,(rows-i)+1):\n",
    "        print(end=\"  \")\n",
    "\n",
    "        # print(\"*\",end='')\n",
    "\n",
    "    while k!=(2*i-1):\n",
    "\n",
    "        print(\"* \",end='')\n",
    "        k+= 1\n",
    "    k=0\n",
    "    print()"
   ]
  }
 ],
 "metadata": {
  "kernelspec": {
   "display_name": "Python 3",
   "language": "python",
   "name": "python3"
  },
  "language_info": {
   "codemirror_mode": {
    "name": "ipython",
    "version": 3
   },
   "file_extension": ".py",
   "mimetype": "text/x-python",
   "name": "python",
   "nbconvert_exporter": "python",
   "pygments_lexer": "ipython3",
   "version": "3.12.0"
  }
 },
 "nbformat": 4,
 "nbformat_minor": 2
}
